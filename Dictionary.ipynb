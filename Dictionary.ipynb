{
 "cells": [
  {
   "cell_type": "code",
   "execution_count": 1,
   "id": "98e05925-0a02-4398-8d81-9ad503ca6dd5",
   "metadata": {},
   "outputs": [
    {
     "name": "stdout",
     "output_type": "stream",
     "text": [
      "Dictionary before clear(): {'New York': 18, 'Texas': 26}\n",
      "Dictionary after clear(): {}\n"
     ]
    }
   ],
   "source": [
    "# methods in dictionary\n",
    "\n",
    "# 1.clear():\n",
    "\n",
    "cityTemperature = {\n",
    "    \"Bengaluru\": 18, \n",
    "    \"Shivamogga\": 22\n",
    "}\n",
    "\n",
    "print(\"Dictionary before clear():\", cityTemperature)\n",
    "\n",
    "cityTemperature.clear()\n",
    "\n",
    "print(\"Dictionary after clear():\", cityTemperature)\n",
    "\n",
    "#  used clear() method to remove all the items from the dictionary cityTemperature.This method removes every item from {\"Bengaluru\": 18, \"Shivamogga\": 22} and returns an empty dictionary {}"
   ]
  },
  {
   "cell_type": "code",
   "execution_count": 2,
   "id": "302995ef-5668-4638-97c4-7c3142c60d3a",
   "metadata": {},
   "outputs": [
    {
     "name": "stdout",
     "output_type": "stream",
     "text": [
      "Original Marks: {'Physics': 67, 'Maths': 87}\n",
      "Copied Marks: {'Physics': 67, 'Maths': 87}\n"
     ]
    }
   ],
   "source": [
    "# 2.copy():\n",
    "\n",
    "original_marks = {'Physics':67, \n",
    "                  'Maths':87\n",
    "                 }\n",
    "\n",
    "copied_marks = original_marks.copy()\n",
    "\n",
    "\n",
    "print('Original Marks:', original_marks)\n",
    "print('Copied Marks:', copied_marks)\n",
    "\n",
    "# Output: Original Marks: {'Physics': 67, 'Maths': 87}\n",
    "#         Copied Marks: {'Physics': 67, 'Maths': 87}\n",
    "#This method returns a shallow copy of the dictionary, It doesn't change the original dictionary."
   ]
  },
  {
   "cell_type": "code",
   "execution_count": 12,
   "id": "6858ae36-2456-4774-a2ba-f0795769dd9e",
   "metadata": {},
   "outputs": [
    {
     "name": "stdout",
     "output_type": "stream",
     "text": [
      "new_marks:  {}\n",
      "original_marks:  {}\n"
     ]
    }
   ],
   "source": [
    "# Using '=' Operator to Copy Dictionaries:\n",
    "\n",
    "original_marks = {\n",
    "                   'history':50, \n",
    "                   'Social':55\n",
    "                 }\n",
    "new_marks = original_marks\n",
    "\n",
    "new_marks.clear()\n",
    "\n",
    "print('new_marks: ', new)\n",
    "print('original_marks: ', original)\n",
    "\n",
    "# when the new dictionary is cleared, the original dictionary is also cleared.\n",
    "\n",
    "#output: new:  {}\n",
    "#   original:  {}"
   ]
  },
  {
   "cell_type": "code",
   "execution_count": 14,
   "id": "451b7662-f9cb-4b8d-bcd0-87202045395f",
   "metadata": {},
   "outputs": [
    {
     "name": "stdout",
     "output_type": "stream",
     "text": [
      "new:  {}\n",
      "original:  {'science': 98, 'geography': 95}\n"
     ]
    }
   ],
   "source": [
    "# Using copy() to Copy Dictionaries:\n",
    "\n",
    "original = {\n",
    "                  'science':98, \n",
    "                  'geography':95\n",
    "                 }\n",
    "new = original.copy()\n",
    "\n",
    "new.clear()\n",
    "\n",
    "print('new: ', new)\n",
    "print('original: ', original)\n",
    "\n",
    "# when the new dictionary is cleared, the original dictionary remains unchanged.\n",
    "\n",
    "# output: new:  {}\n",
    "#    original:  {'science': 98, 'geography': 95}\n",
    "\n",
    "\n",
    " "
   ]
  },
  {
   "cell_type": "code",
   "execution_count": 4,
   "id": "5432ce65-ec05-400a-a3a9-923b6f8f7eee",
   "metadata": {},
   "outputs": [
    {
     "name": "stdout",
     "output_type": "stream",
     "text": [
      "{'nagaraj': 'data scientist', 'rakshith': 'data scientist', 'deekshith': 'data scientist', 'amith': 'data scientist', 'anjan': 'data scientist'}\n"
     ]
    }
   ],
   "source": [
    "# 3.fromkeys() with key and value:\n",
    "\n",
    "keys = {\n",
    "        'rakshith', \n",
    "        'deekshith', \n",
    "        'anjan', \n",
    "        'nagaraj', \n",
    "        'amith' \n",
    "}\n",
    "\n",
    "value = 'data scientist'\n",
    "\n",
    "vowels = dict.fromkeys(keys, value)\n",
    "\n",
    "print(vowels)\n",
    "\n",
    "# used the fromkeys() method to create the dictionary with the given set of keys and string value.\n",
    "# fromkeys() method creates a new dictionary named 'data scientist' from keys and value. All the keys of the dictionary are assigned with the same value.\n",
    "\n",
    "#output: {'nagaraj': 'data scientist', 'rakshith': 'data scientist', 'deekshith': 'data scientist', 'amith': 'data scientist', 'anjan': 'data scientist'}\n"
   ]
  },
  {
   "cell_type": "code",
   "execution_count": 6,
   "id": "0cd2ba72-5aa0-43f8-9a9e-195ab120b54e",
   "metadata": {},
   "outputs": [
    {
     "name": "stdout",
     "output_type": "stream",
     "text": [
      "{'Rakshith': None, 'Deekshith': None, 'Amith': None}\n"
     ]
    }
   ],
   "source": [
    "# fromkeys() without Value:\n",
    "\n",
    "\n",
    "employee = ['Rakshith', 'Deekshith', 'Amith']\n",
    "\n",
    "designation = dict.fromkeys(keys)\n",
    "\n",
    "print(numbers)\n",
    "\n",
    "# created a dictionary named designation with the given list of keys named employee.We have not provided any values, so all the keys are assigned None by default.\n",
    "\n",
    "# output: {'Rakshith': None, 'Deekshith': None, 'Amith': None}\n"
   ]
  },
  {
   "cell_type": "code",
   "execution_count": 7,
   "id": "2ecf3c45-e15f-44e2-b52a-faed80fa1b62",
   "metadata": {},
   "outputs": [
    {
     "name": "stdout",
     "output_type": "stream",
     "text": [
      "{'a': [1], 'u': [1], 'i': [1], 'o': [1], 'e': [1]}\n",
      "{'a': [1, 2], 'u': [1, 2], 'i': [1, 2], 'o': [1, 2], 'e': [1, 2]}\n"
     ]
    }
   ],
   "source": [
    "# fromkeys() To Create A Dictionary From Mutable Object:\n",
    "\n",
    "keys = {'a', 'e', 'i', 'o', 'u' }\n",
    "\n",
    "value = [1]\n",
    "\n",
    "vowels = dict.fromkeys(keys, value)\n",
    "print(vowels)\n",
    "\n",
    "value.append(2)\n",
    "\n",
    "print(vowels)\n",
    "\n",
    "# used a list as the value for the dictionary. The iterables like list, dictionary are the mutable objects, meaning they can be modified.\n",
    "\n",
    "# when we update the list value using append, the keys are assigned with the new updated values. This is because each element is pointing to the same address in the memory.\n",
    "\n",
    "# output:{'a': [1], 'u': [1], 'i': [1], 'o': [1], 'e': [1]}\n",
    "#        {'a': [1, 2], 'u': [1, 2], 'i': [1, 2], 'o': [1, 2], 'e': [1, 2]}"
   ]
  },
  {
   "cell_type": "code",
   "execution_count": 8,
   "id": "360c220c-09f3-411f-ab1d-a5130a87ef87",
   "metadata": {},
   "outputs": [
    {
     "name": "stdout",
     "output_type": "stream",
     "text": [
      "67\n"
     ]
    }
   ],
   "source": [
    "# 4.get():\n",
    "\n",
    "scores = {\n",
    "    'Physics': 67, \n",
    "    'Maths': 87,\n",
    "    'History': 75\n",
    "}\n",
    "\n",
    "result = scores.get('Physics')\n",
    "\n",
    "print(result)   \n",
    "\n",
    "# scores.get('Physics') retrieves the value associated with the key 'Physics' in the scores dictionary, which is 67\n",
    "# output: 67"
   ]
  },
  {
   "cell_type": "code",
   "execution_count": 11,
   "id": "7ac9d2db-dedf-40ed-a19a-82c8df4619fe",
   "metadata": {},
   "outputs": [
    {
     "name": "stdout",
     "output_type": "stream",
     "text": [
      "Salary:  None\n"
     ]
    },
    {
     "ename": "KeyError",
     "evalue": "'salary'",
     "output_type": "error",
     "traceback": [
      "\u001b[1;31m---------------------------------------------------------------------------\u001b[0m",
      "\u001b[1;31mKeyError\u001b[0m                                  Traceback (most recent call last)",
      "Cell \u001b[1;32mIn[11], line 10\u001b[0m\n\u001b[0;32m      6\u001b[0m \u001b[38;5;28mprint\u001b[39m(\u001b[38;5;124m'\u001b[39m\u001b[38;5;124mSalary: \u001b[39m\u001b[38;5;124m'\u001b[39m, person\u001b[38;5;241m.\u001b[39mget(\u001b[38;5;124m'\u001b[39m\u001b[38;5;124msalary\u001b[39m\u001b[38;5;124m'\u001b[39m))\n\u001b[0;32m      9\u001b[0m \u001b[38;5;66;03m# Using [] results in KeyError\u001b[39;00m\n\u001b[1;32m---> 10\u001b[0m \u001b[38;5;28mprint\u001b[39m(person[\u001b[38;5;124m'\u001b[39m\u001b[38;5;124msalary\u001b[39m\u001b[38;5;124m'\u001b[39m])\n",
      "\u001b[1;31mKeyError\u001b[0m: 'salary'"
     ]
    }
   ],
   "source": [
    "# get() method Vs dict[key] to Access Elements:\n",
    "\n",
    "person = {}\n",
    "\n",
    "\n",
    "print('Salary: ', person.get('salary'))     # Using get() results in None\n",
    "\n",
    "print(person['salary'])\n",
    "\n",
    "# output\": Salary:  None"
   ]
  },
  {
   "cell_type": "code",
   "execution_count": 13,
   "id": "cec604ed-bd70-4906-a1c1-caac58a1db0e",
   "metadata": {},
   "outputs": [
    {
     "name": "stdout",
     "output_type": "stream",
     "text": [
      "dict_items([('indian polity', 1), ('economy', 2), ('history', 4)])\n"
     ]
    }
   ],
   "source": [
    "# 5.items():\n",
    "\n",
    "# Getting all items of a dictionary with items():\n",
    "\n",
    "book = { \n",
    "    'indian polity': 1, \n",
    "          'economy': 2, \n",
    "          'history': 4 \n",
    "}\n",
    "\n",
    "print(book.items())\n",
    "\n",
    "# book dictionary contains key-value pairs where the keys are subject names (like 'indian polity', 'economy', and 'history'), and the values are integers (like 1, 2, and 4).\n",
    "\n",
    "# items() method returns a view object that displays a list of tuples, where each tuple contains a key-value pair from the dictionary\n",
    "\n",
    "# output: dict_items([('indian polity', 1), ('economy', 2), ('history', 4)])"
   ]
  },
  {
   "cell_type": "code",
   "execution_count": 15,
   "id": "b803cbe5-d0ea-4038-8a84-dfd5f835be05",
   "metadata": {},
   "outputs": [
    {
     "name": "stdout",
     "output_type": "stream",
     "text": [
      "Original items: dict_items([('apple', 2), ('orange', 3), ('grapes', 4)])\n",
      "Updated items: dict_items([('orange', 3), ('grapes', 4)])\n"
     ]
    }
   ],
   "source": [
    "# How items() works when a dictionary is modified\n",
    "\n",
    "sales = { 'apple': 2, 'orange': 3, 'grapes': 4 }\n",
    "\n",
    "items = sales.items()\n",
    "\n",
    "print('Original items:', items)\n",
    "\n",
    "del[sales['apple']]\n",
    "\n",
    "print('Updated items:', items)\n",
    "\n",
    "\n",
    "# output: Original items: dict_items([('apple', 2), ('orange', 3), ('grapes', 4)])\n",
    "#          Updated items: dict_items([('orange', 3), ('grapes', 4)])\n"
   ]
  },
  {
   "cell_type": "code",
   "execution_count": 16,
   "id": "9f371e87-ed59-4b6f-8812-619213774140",
   "metadata": {},
   "outputs": [
    {
     "name": "stdout",
     "output_type": "stream",
     "text": [
      "dict_keys(['name', 'age', 'register no'])\n"
     ]
    }
   ],
   "source": [
    "# 6.using Keys():\n",
    "\n",
    "candidate = {\n",
    "             'name': 'Rakshith', \n",
    "              'age': 27, \n",
    "      'register no': 2525852\n",
    "            }\n",
    "\n",
    "# extracts the keys of the dictionary\n",
    "dictionaryKeys = candidate.keys()\n",
    "\n",
    "print(dictionaryKeys)\n",
    "\n",
    "# used the keys() method to extract the keys of the dictionary. The list of keys are returned as a view object. dict_keys() is the view object and ['name', 'age', 'Register no'] is the list of keys of the dictionary candidate.\n",
    "\n",
    "# output: dict_keys(['name', 'age', 'register no'])\n"
   ]
  },
  {
   "cell_type": "code",
   "execution_count": 18,
   "id": "d2d4462b-1181-44e0-a339-b92392129f20",
   "metadata": {},
   "outputs": [
    {
     "name": "stdout",
     "output_type": "stream",
     "text": [
      "Before dictionary update: dict_keys(['name', 'age'])\n",
      "After dictionary update: dict_keys(['name', 'age', 'register no'])\n"
     ]
    }
   ],
   "source": [
    "# Update in dictionary updates the view object\n",
    "\n",
    "candidate = {\n",
    "    'name': 'Rakshi', \n",
    "     'age': 27\n",
    "}\n",
    "\n",
    "dictionaryKeys = candidate.keys()\n",
    "\n",
    "print('Before dictionary update:', dictionaryKeys)\n",
    "\n",
    "candidate.update({'register no': 252528520})\n",
    "\n",
    "print('After dictionary update:', dictionaryKeys)\n",
    "\n",
    "# have updated the dictionary by adding a element called register no and used the keys() method to extract the keys.The dictionaryKeys also gets updated when the dictionary element is updated.\n",
    "\n",
    "# output: Before dictionary update: dict_keys(['name', 'age'])\n",
    "#          After dictionary update: dict_keys(['name', 'age', 'register no'])\n"
   ]
  },
  {
   "cell_type": "code",
   "execution_count": 19,
   "id": "6ace8a00-e18e-4238-a377-93345040e0a3",
   "metadata": {},
   "outputs": [
    {
     "name": "stdout",
     "output_type": "stream",
     "text": [
      "Return Value =  ('salary', 30000.0)\n",
      "employee =  {'name': 'Rakshith', 'age': 27}\n",
      "Return Value =  ('profession', 'engineer')\n",
      "employee =  {'name': 'Rakshith', 'age': 27}\n"
     ]
    }
   ],
   "source": [
    "# 7.popitem():\n",
    "\n",
    "employee = {\n",
    "           'name': 'Rakshith', \n",
    "            'age': 27, \n",
    "         'salary': 30000.0\n",
    "           }\n",
    "\n",
    "result = employee.popitem()\n",
    "\n",
    "print('Return Value = ', result)\n",
    "print('employee = ', employee)\n",
    "\n",
    "employee['profession'] = 'engineer'\n",
    "\n",
    "result = employee.popitem()\n",
    "\n",
    "print('Return Value = ', result)\n",
    "print('employee = ', employee)\n",
    "\n",
    "# popitem() removes the last inserted item in the dictionary (in terms of the insertion order) and returns it as a tuple.After the first popitem() call, the last item ('salary': 30000.0) is removed.\n",
    "# After adding a new key-value pair ('profession': 'engineer'), the last item ('profession': 'engineer') is removed by the second popitem() call\n",
    "\n",
    "# output: Return Value =  ('salary', 30000.0)\n",
    "#             employee =  {'name': 'Rakshith', 'age': 27}\n",
    "#         Return Value =  ('profession', 'engineer')\n",
    "#             employee =  {'name': 'Rakshith', 'age': 27}\n"
   ]
  },
  {
   "cell_type": "code",
   "execution_count": 1,
   "id": "72e83847-6ee4-4975-a839-4b11607d3d23",
   "metadata": {},
   "outputs": [
    {
     "name": "stdout",
     "output_type": "stream",
     "text": [
      "person =  {'name': 'Rakshi', 'age': 27}\n",
      "Age =  27\n"
     ]
    }
   ],
   "source": [
    "# setdefault()\n",
    "\n",
    "# setdefault() works when key is in the dictionary:\n",
    "\n",
    "person = {\n",
    "        'name': 'Rakshi', \n",
    "         'age': 27\n",
    "         }\n",
    "\n",
    "age = person.setdefault('age')\n",
    "print('person = ',person)\n",
    "print('Age = ',age)\n",
    "\n",
    "# setdefault('age') retrieves the value associated with the key 'age', which is 27.The person dictionary remains the same because the key 'age' already exists.\n",
    "\n",
    "\n",
    "# output: person =  {'name': 'Rakshi', 'age': 27}\n",
    "#            Age =  27"
   ]
  },
  {
   "cell_type": "code",
   "execution_count": 4,
   "id": "90ffe09b-e89d-489a-874d-ac8be4846c48",
   "metadata": {},
   "outputs": [
    {
     "name": "stdout",
     "output_type": "stream",
     "text": [
      "person =  {'name': 'Rakshith', 'salary': None}\n",
      "salary =  None\n",
      "person =  {'name': 'Rakshith', 'salary': None, 'age': 27}\n",
      "age =  27\n"
     ]
    }
   ],
   "source": [
    "# setdefault() works when key is not in the dictionary:\n",
    "\n",
    "person = {'name': 'Rakshith'}\n",
    "\n",
    "salary = person.setdefault('salary')\n",
    "\n",
    "print('person = ',person)\n",
    "print('salary = ',salary)\n",
    "\n",
    "age = person.setdefault('age', 27)\n",
    "\n",
    "print('person = ',person)\n",
    "print('age = ',age)\n",
    "\n",
    "# first setdefault('salary') adds the key 'salary' with the default value None, as no second argument was provided.\n",
    "# second setdefault('age', 27) adds the key 'age' with the value 27 since 'age' was not previously in the dictionary.\n",
    "# setdefault() method returns the existing value if the key is present, or adds the key with a specified default value if it's not.\n",
    "\n",
    "# output: person =  {'name': 'Rakshith', 'salary': None}\n",
    "#         salary =  None\n",
    "#         person =  {'name': 'Rakshith', 'salary': None, 'age': 27}\n",
    "#            age =  27\n"
   ]
  },
  {
   "cell_type": "code",
   "execution_count": 5,
   "id": "04e0b685-8310-420e-bd19-c5bddc1a16b1",
   "metadata": {},
   "outputs": [
    {
     "name": "stdout",
     "output_type": "stream",
     "text": [
      "The popped element is: 2\n",
      "The dictionary is: {'orange': 3, 'grapes': 4}\n"
     ]
    }
   ],
   "source": [
    "# 8.pop():\n",
    "\n",
    "sales = { 'apple': 2, \n",
    "         'orange': 3, \n",
    "         'grapes': 4 \n",
    "        }\n",
    "\n",
    "element = sales.pop('apple')\n",
    "\n",
    "print('The popped element is:', element)\n",
    "print('The dictionary is:', sales)\n",
    "\n",
    "# The pop('apple') method removes the key 'apple' and its value 2 from the dictionary and assigns the value 2 to the variable element.After the operation, the sales dictionary no longer contains 'apple', and the remaining key-value pairs are 'orange': 3 and 'grapes': 4.\n",
    "\n",
    "# output: The popped element is: 2\n",
    "#             The dictionary is: {'orange': 3, 'grapes': 4}\n"
   ]
  },
  {
   "cell_type": "code",
   "execution_count": 6,
   "id": "34136991-0784-4d63-8899-c709baa79b22",
   "metadata": {},
   "outputs": [
    {
     "name": "stdout",
     "output_type": "stream",
     "text": [
      "The popped fruit is: banana\n",
      "The dictionary is: {'apple': 2, 'orange': 3, 'grapes': 4}\n"
     ]
    }
   ],
   "source": [
    "# Popping an element not present from the dictionary, provided a default value\n",
    "\n",
    "sales = { 'apple': 2, \n",
    "         'orange': 3, \n",
    "         'grapes': 4 \n",
    "        }\n",
    "\n",
    "fruit = sales.pop('guava', 'banana')\n",
    "\n",
    "print('The popped fruit is:', fruit)\n",
    "print('The dictionary is:', sales)\n",
    "\n",
    "# The pop('guava', 'banana') method tried to remove the key 'guava', but since it doesn't exist, it returned 'banana' as the default value.sales dictionary was not altered because the key 'guava' did not exist. The dictionary remains the same.\n",
    "\n",
    "# output: The popped fruit is: banana\n",
    "#           The dictionary is: {'apple': 2, 'orange': 3, 'grapes': 4}\n"
   ]
  },
  {
   "cell_type": "code",
   "execution_count": 8,
   "id": "15cc46b2-feec-476d-903d-799fa5267ab0",
   "metadata": {},
   "outputs": [
    {
     "name": "stdout",
     "output_type": "stream",
     "text": [
      "dict_values([30000.0, 40000.0, 50000.0])\n"
     ]
    }
   ],
   "source": [
    "# Getting all values from the dictionary\n",
    "\n",
    "salary = { 'rakshith': 30000.0, \n",
    "         'orange': 40000.0, \n",
    "         'grapes': 50000.0 \n",
    "        }\n",
    "\n",
    "print(salary.values())\n",
    "\n",
    "# salary.values() returns a dict_values object that contains all the values from the dictionary: 30000.0, 40000.0, and 50000.0.This dict_values object can be iterated over or converted into a list if needed \n",
    "\n",
    "\n",
    "\n",
    "\n",
    "#output: dict_values([30000.0, 40000.0, 50000.0])"
   ]
  },
  {
   "cell_type": "code",
   "execution_count": 9,
   "id": "0abf188e-f345-4b92-ac68-42621a7f9556",
   "metadata": {},
   "outputs": [
    {
     "name": "stdout",
     "output_type": "stream",
     "text": [
      "Original items: dict_values([2, 3, 4])\n",
      "Updated items: dict_values([3, 4])\n"
     ]
    }
   ],
   "source": [
    "# how values() works when a dictionary is modified\n",
    "\n",
    "sales = { 'apple': 2, 'orange': 3, 'grapes': 4 }\n",
    "\n",
    "values = sales.values()\n",
    "\n",
    "print('Original items:', values)\n",
    "\n",
    "\n",
    "del[sales['apple']]\n",
    "\n",
    "print('Updated items:', values)\n",
    "\n",
    "# sales.values() returns a view object of the dictionary's values.When an item ('apple') is deleted using del sales['apple'], the values view object updates automatically, reflecting the current state of the dictionary.\n",
    "\n",
    "#output: Original items: dict_values([2, 3, 4])\n",
    "#         Updated items: dict_values([3, 4])\n"
   ]
  },
  {
   "cell_type": "code",
   "execution_count": 10,
   "id": "473b7e38-685b-4c5c-9261-e024664e192f",
   "metadata": {},
   "outputs": [
    {
     "name": "stdout",
     "output_type": "stream",
     "text": [
      "{'Physics': 67, 'Maths': 87, 'Practical': 48}\n"
     ]
    }
   ],
   "source": [
    "# 9.update():\n",
    "\n",
    "marks = {\n",
    "    'Physics':67, \n",
    "      'Maths':87\n",
    "}\n",
    "\n",
    "internal_marks = {'Practical':48}\n",
    "\n",
    "marks.update(internal_marks)\n",
    "\n",
    "\n",
    "print(marks)\n",
    "\n",
    "#\n",
    "\n",
    "# Output: {'Physics': 67, 'Maths': 87, 'Practical': 48}"
   ]
  },
  {
   "cell_type": "code",
   "execution_count": 12,
   "id": "8be7b52f-a6c2-45f0-820d-e8010a2d8897",
   "metadata": {},
   "outputs": [
    {
     "name": "stdout",
     "output_type": "stream",
     "text": [
      "{'rakshith': 'data scientist', 'deekshith': 'doctor', 'nagaraj': 'ips'}\n"
     ]
    }
   ],
   "source": [
    "# update() When Tuple is Passed\n",
    "\n",
    "dictionary = {'rakshith': 'data scientist'}\n",
    "\n",
    "dictionary.update([('deekshith', 'doctor'), ('nagaraj', 'ips')])\n",
    "\n",
    "print(dictionary)\n",
    "\n",
    "# The update() method merges the contents of internal_marks into marks. In this case, it adds the 'Practical' key with the value 48 into the marks dictionary. The marks dictionary now contains the three subjects and their respective marks.\n",
    "\n",
    "# output: {'rakshith': 'data scientist', 'deekshith': 'doctor', 'nagaraj': 'ips'}\n"
   ]
  },
  {
   "cell_type": "code",
   "execution_count": null,
   "id": "72f222c0-6df7-4db5-9cdc-8a0c0f6ce956",
   "metadata": {},
   "outputs": [],
   "source": []
  }
 ],
 "metadata": {
  "kernelspec": {
   "display_name": "Python 3 (ipykernel)",
   "language": "python",
   "name": "python3"
  },
  "language_info": {
   "codemirror_mode": {
    "name": "ipython",
    "version": 3
   },
   "file_extension": ".py",
   "mimetype": "text/x-python",
   "name": "python",
   "nbconvert_exporter": "python",
   "pygments_lexer": "ipython3",
   "version": "3.12.7"
  }
 },
 "nbformat": 4,
 "nbformat_minor": 5
}
