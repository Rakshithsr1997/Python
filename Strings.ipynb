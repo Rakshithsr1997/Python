{
 "cells": [
  {
   "cell_type": "code",
   "execution_count": 2,
   "id": "5caf5fa7-1456-43b3-91d2-100a16cd9f16",
   "metadata": {},
   "outputs": [
    {
     "name": "stdout",
     "output_type": "stream",
     "text": [
      "I love my mother.\n"
     ]
    }
   ],
   "source": [
    "# methods in string operation\n",
    "\n",
    "# 1.String capitalize()\n",
    "\n",
    "sentence = \"i love my mother.\"\n",
    " \n",
    "capitalized_string = sentence.capitalize()\n",
    "\n",
    "print(capitalized_string)\n",
    "\n",
    "# used capitalize() method to convert the first character of the sentence string to uppercase and the other characters to lowercase. sentence.capitalize() returns \"I love my mother.\" which is assigned to capitalized_string.\n",
    "\n",
    "# output: I love my mother."
   ]
  },
  {
   "cell_type": "code",
   "execution_count": 3,
   "id": "f012abd9-7c3f-4bb5-9927-d58e7af931ac",
   "metadata": {},
   "outputs": [
    {
     "name": "stdout",
     "output_type": "stream",
     "text": [
      "Before capitalize(): i love my mother.\n",
      "After capitalize(): I love my mother.\n"
     ]
    }
   ],
   "source": [
    "# capitalize() Doesn't Change the Original String\n",
    "\n",
    "\n",
    "capitalized_string = sentence.capitalize()        # capitalize the first character \n",
    "\n",
    "\n",
    "print('Before capitalize():', sentence)          # the sentence string is not modified \n",
    "\n",
    "print('After capitalize():', capitalized_string)\n",
    "\n",
    "# output: Before capitalize(): i love my mother.\n",
    "#          After capitalize(): I love my mother.\n"
   ]
  },
  {
   "cell_type": "code",
   "execution_count": 9,
   "id": "cfdf6aa6-107f-4447-9775-6785e16ebeeb",
   "metadata": {},
   "outputs": [
    {
     "name": "stdout",
     "output_type": "stream",
     "text": [
      "$i love my mother.$$\n"
     ]
    }
   ],
   "source": [
    "# 2.String center()\n",
    "\n",
    "sentence = \"i love my mother.\"\n",
    " \n",
    "new_string = sentence.center(20, '$')\n",
    "\n",
    "print(new_string)\n",
    "\n",
    "# used the center() method with the sentence string as sentence.center(20,'$').this method returns a new centered string after padding the sentence with '$' up to length 20.\n",
    "\n",
    "# output: $i love my mother.$$"
   ]
  },
  {
   "cell_type": "code",
   "execution_count": 14,
   "id": "9239f028-b4e8-42b6-91fb-da41508314c7",
   "metadata": {},
   "outputs": [
    {
     "name": "stdout",
     "output_type": "stream",
     "text": [
      "i am an indian\n"
     ]
    }
   ],
   "source": [
    "# 3.String casefold()\n",
    "\n",
    "text = \"I AM AN INDIAN\"\n",
    "\n",
    "lowercased_string = text.casefold()\n",
    "\n",
    "print(lowercased_string)\n",
    "\n",
    "# used the casefold() method to convert all the characters of text to lowercase.\n",
    "\n",
    "# Output: i am an indian\n"
   ]
  },
  {
   "cell_type": "code",
   "execution_count": 15,
   "id": "4ba32a0a-4f91-44a0-bcd5-1aaf4cd9f61d",
   "metadata": {},
   "outputs": [
    {
     "name": "stdout",
     "output_type": "stream",
     "text": [
      "Using casefold(): gross\n",
      "Using lower(): groß\n"
     ]
    }
   ],
   "source": [
    "# casefold() as an Aggressive lower() Method\n",
    "\n",
    "text = 'groß'\n",
    "\n",
    "print('Using casefold():', text.casefold()) \n",
    "\n",
    "print('Using lower():', text.lower())\n",
    "\n",
    "# The casefold() method is similar to the lower() method but it is more aggressive. This means the casefold() method converts more characters into lower case compared to lower()\n",
    "# he German letter ß is already lowercase so, the lower() method doesn't make the conversion.But the casefold() method will convert ß to its equivalent character ss.\n",
    "\n",
    "# output: Using casefold(): gross\n",
    "#         Using lower(): groß"
   ]
  },
  {
   "cell_type": "code",
   "execution_count": 20,
   "id": "6ea24550-a09d-4315-83f5-1ba4e5f37b91",
   "metadata": {},
   "outputs": [
    {
     "name": "stdout",
     "output_type": "stream",
     "text": [
      "The count is: 2\n"
     ]
    }
   ],
   "source": [
    "# 4. string count()\n",
    "\n",
    "# Count number of occurrences of a given substring\n",
    "\n",
    "string = \"india is a cultured country, isn't it?\"\n",
    "\n",
    "substring = \"is\"\n",
    "\n",
    "count = string.count(substring)\n",
    "\n",
    "# print count\n",
    "print(\"The count is:\", count)\n",
    "\n",
    "# count() method returns the number of occurrences of the substring in the given string.here is repeated two times so the count is 2.\n",
    "\n"
   ]
  },
  {
   "cell_type": "code",
   "execution_count": 24,
   "id": "f65c4e2a-3797-41c1-8765-f256fe44bd2f",
   "metadata": {},
   "outputs": [
    {
     "name": "stdout",
     "output_type": "stream",
     "text": [
      "The count is: 1\n"
     ]
    }
   ],
   "source": [
    "# Count number of occurrences of a given substring using start and end\n",
    "\n",
    "string = \"Python is awesome, isn't it?\"\n",
    "\n",
    "substring = \"i\"\n",
    "\n",
    "count = string.count(substring, 8, 25)\n",
    "\n",
    "print(\"The count is:\", count)\n",
    "\n",
    "# the counting starts after the first i has been encountered, that is 7th index position.And, it ends before the last i, that is 25th index position.\n",
    "\n"
   ]
  },
  {
   "cell_type": "code",
   "execution_count": 26,
   "id": "23400cce-dd70-46c6-8709-dcb3ce1f638c",
   "metadata": {},
   "outputs": [
    {
     "name": "stdout",
     "output_type": "stream",
     "text": [
      "False\n",
      "True\n"
     ]
    }
   ],
   "source": [
    "# 5.String endswith()\n",
    "\n",
    "message = 'dhoni is a great captain ever'\n",
    "\n",
    "print(message.endswith('captain'))\n",
    "\n",
    "print(message.endswith('ever'))\n",
    "\n",
    "# endswith() method returns True if a string ends with the specified suffix. If not, it returns False.\n",
    "\n",
    "# Output: True\n",
    "#         False"
   ]
  },
  {
   "cell_type": "code",
   "execution_count": 27,
   "id": "020e5a3d-ac07-47dc-a51a-9f8db3b179ce",
   "metadata": {},
   "outputs": [
    {
     "name": "stdout",
     "output_type": "stream",
     "text": [
      "xyz     12345   abc\n"
     ]
    }
   ],
   "source": [
    "# 6.String expandtabs()\n",
    "\n",
    "str = 'xyz\\t12345\\tabc'\n",
    "\n",
    "result = str.expandtabs()\n",
    "\n",
    "print(result) \n",
    "\n",
    "# expandtabs() returns a string where all '\\t' characters are replaced with whitespace characters until the next multiple of tabsize parameter.\n",
    "\n",
    "# output: xyz     12345   abc"
   ]
  },
  {
   "cell_type": "code",
   "execution_count": 1,
   "id": "f9b5b740-1dfa-48d1-b287-39998dd9a3c8",
   "metadata": {},
   "outputs": [
    {
     "name": "stdout",
     "output_type": "stream",
     "text": [
      "7\n"
     ]
    }
   ],
   "source": [
    "# 7.String index()\n",
    "\n",
    "text = 'i love my mother'\n",
    "\n",
    "\n",
    "result = text.index('my')     # find the index of is\n",
    "\n",
    "print(result)\n",
    "\n",
    "# Output: 7"
   ]
  },
  {
   "cell_type": "code",
   "execution_count": 2,
   "id": "f8d82b62-6cf1-41b9-b5cf-30eb9a32d011",
   "metadata": {},
   "outputs": [
    {
     "name": "stdout",
     "output_type": "stream",
     "text": [
      "True\n",
      "False\n",
      "False\n"
     ]
    }
   ],
   "source": [
    "# 8.isalnum()\n",
    "\n",
    "string1 = \"M234onica\"\n",
    "\n",
    "print(string1.isalnum()) \n",
    "\n",
    "string2 = \"M3onica Gell22er\"\n",
    "\n",
    "print(string2.isalnum()) \n",
    "\n",
    "\n",
    "string3 = \"@Monica!\"\n",
    "\n",
    "print(string3.isalnum()) \n",
    "\n",
    "# used the isalnum() method with different strings to check if every character in the string is alphanumeric, string1 contains either alphabet or numerical values so the method returns True.The method returns False for string2 and string3 because they contain non-alphanumeric characters i.e. whitespace, @, !.\n",
    "\n",
    "\n"
   ]
  },
  {
   "cell_type": "code",
   "execution_count": 3,
   "id": "c79f3498-3c1f-4ef7-8bfa-04e8bc6e6fdb",
   "metadata": {},
   "outputs": [
    {
     "name": "stdout",
     "output_type": "stream",
     "text": [
      "True\n",
      "False\n",
      "False\n"
     ]
    }
   ],
   "source": [
    "# isdecimal()\n",
    "\n",
    "s = \"28212\"\n",
    "print(s.isdecimal())\n",
    "\n",
    "s = \"32ladk3\"\n",
    "print(s.isdecimal())\n",
    "\n",
    "\n",
    "s = \"Mo3 nicaG el l22er\"\n",
    "print(s.isdecimal())\n",
    "\n",
    "# The superscript and subscripts are considered digit characters but not decimals. If the string contains these characters (usually written using unicode), isdecimal() returns False.Similarly, roman numerals, currency numerators and fractions are considered numeric numbers (usually written using unicode) but not decimals. The isdecimal() also returns False in this case.\n"
   ]
  },
  {
   "cell_type": "code",
   "execution_count": 5,
   "id": "b6d94249-1523-4391-871a-7816b4de6ca7",
   "metadata": {},
   "outputs": [
    {
     "name": "stdout",
     "output_type": "stream",
     "text": [
      "True\n",
      "False\n"
     ]
    }
   ],
   "source": [
    "# isdigit()\n",
    "\n",
    "str1 = '342'\n",
    "print(str1.isdigit())\n",
    "\n",
    "str2 = 'rakshi'\n",
    "print(str2.isdigit())\n",
    "\n",
    "# The isdigit() method returns True if all characters in a string are digits. If not, it returns False.\n",
    "\n",
    "# Output: True\n",
    "#         False"
   ]
  },
  {
   "cell_type": "code",
   "execution_count": 6,
   "id": "4c06ae75-1333-4415-9c59-877eeaa93a2c",
   "metadata": {},
   "outputs": [
    {
     "name": "stdout",
     "output_type": "stream",
     "text": [
      "True\n",
      "False\n",
      "False\n",
      "False\n"
     ]
    }
   ],
   "source": [
    "# isidentifier()\n",
    "\n",
    "str = 'rakshi'\n",
    "print(str.isidentifier())         # output:True\n",
    "\n",
    "str = 'ra kshi'\n",
    "print(str.isidentifier())        # False\n",
    "\n",
    "str = '22rakshi'\n",
    "print(str.isidentifier())        # False\n",
    "\n",
    "str = ''\n",
    "print(str.isidentifier())       # False"
   ]
  },
  {
   "cell_type": "code",
   "execution_count": 7,
   "id": "76c1bd42-fca8-43b7-a6eb-84633b525a56",
   "metadata": {},
   "outputs": [
    {
     "name": "stdout",
     "output_type": "stream",
     "text": [
      "True\n",
      "True\n",
      "False\n"
     ]
    }
   ],
   "source": [
    "# islower()\n",
    "\n",
    "s = 'this is good'\n",
    "print(s.islower())        # True\n",
    "\n",
    "s = 'th!s is a1so g00d'   #True\n",
    "print(s.islower())\n",
    "\n",
    "s = 'this is Not good'   # False\n",
    "print(s.islower())"
   ]
  },
  {
   "cell_type": "code",
   "execution_count": 8,
   "id": "24e7470a-c99a-43b6-b6b3-7b3fbe7315d2",
   "metadata": {},
   "outputs": [
    {
     "name": "stdout",
     "output_type": "stream",
     "text": [
      "True\n",
      "False\n"
     ]
    }
   ],
   "source": [
    "# isnumeric()\n",
    "\n",
    "symbol_number = \"012345\"\n",
    "\n",
    " \n",
    "print(symbol_number.isnumeric())         # returns True as symbol_number has all numeric characters    \n",
    "\n",
    "text = \"Karnataka14\"\n",
    "\n",
    "\n",
    "print(text.isnumeric())                #  returns False as every character of text is not numeric "
   ]
  },
  {
   "cell_type": "code",
   "execution_count": 10,
   "id": "a4c650f8-7ba5-46da-a019-c59ef10ea0ee",
   "metadata": {},
   "outputs": [
    {
     "name": "stdout",
     "output_type": "stream",
     "text": [
      "True\n",
      "False\n"
     ]
    }
   ],
   "source": [
    "# isprintable()\n",
    "\n",
    "text1 = 'apple'\n",
    "text2 = 'apple\\n'      # contains a non-printable character '\\n'\n",
    "\n",
    "result1 = text1.isprintable()\n",
    "\n",
    "result2 = text2.isprintable()\n",
    "\n",
    "print(result1)\n",
    "\n",
    "print(result2)\n",
    "\n",
    "\n",
    "\n",
    "\n",
    "# isprintable() method returns True if all characters in the string are printable. If not, it returns False.\n",
    "\n",
    "# Output: True \n",
    "#         False\n"
   ]
  },
  {
   "cell_type": "code",
   "execution_count": 11,
   "id": "afa9aa58-f5be-47b6-bdf1-09261d1b5f63",
   "metadata": {},
   "outputs": [
    {
     "name": "stdout",
     "output_type": "stream",
     "text": [
      "True\n",
      "False\n",
      "False\n"
     ]
    }
   ],
   "source": [
    "# isspace()\n",
    "\n",
    "s = '   \\t'\n",
    "print(s.isspace())       # True\n",
    "\n",
    "s = ' a '\n",
    "print(s.isspace())      # False\n",
    "\n",
    "s = ''\n",
    "print(s.isspace())      # False"
   ]
  },
  {
   "cell_type": "code",
   "execution_count": 12,
   "id": "261f3b55-f61a-481d-9469-143d853d6dc1",
   "metadata": {},
   "outputs": [
    {
     "name": "stdout",
     "output_type": "stream",
     "text": [
      "True\n",
      "True\n",
      "False\n"
     ]
    }
   ],
   "source": [
    "# isupper()\n",
    "\n",
    "string = \"THIS IS GOOD!\"\n",
    "print(string.isupper());\n",
    "\n",
    "# numbers in place of alphabets\n",
    "string = \"THIS IS ALSO G00D!\"\n",
    "print(string.isupper());\n",
    "\n",
    "# lowercase string\n",
    "string = \"THIS IS not GOOD!\"\n",
    "print(string.isupper());"
   ]
  },
  {
   "cell_type": "code",
   "execution_count": 13,
   "id": "3d990421-fe74-4f49-8bcf-aa149785ee45",
   "metadata": {},
   "outputs": [
    {
     "name": "stdout",
     "output_type": "stream",
     "text": [
      "jOhN cEnA\n"
     ]
    }
   ],
   "source": [
    "# swapcase()\n",
    "\n",
    "name = \"JoHn CeNa\"\n",
    "\n",
    "print(name.swapcase())\n",
    "\n",
    "# swapcase() method returns the string by converting all the characters to their opposite letter case( uppercase to lowercase and vice versa)\n",
    "\n",
    "# Output: jOhN cEnA"
   ]
  },
  {
   "cell_type": "code",
   "execution_count": 15,
   "id": "ecd2b2e4-83a2-45a4-b1b0-b66f3b9d7e44",
   "metadata": {
    "scrolled": true
   },
   "outputs": [
    {
     "name": "stdout",
     "output_type": "stream",
     "text": [
      "this is good \n",
      "   this is good \n",
      "his is good \n",
      "www.upsc.com/\n"
     ]
    }
   ],
   "source": [
    "# lstrip()\n",
    "\n",
    "random_string = '   this is good '\n",
    "\n",
    "# Leading whitepsace are removed\n",
    "\n",
    "print(random_string.lstrip())\n",
    "\n",
    "# Argument doesn't contain space\n",
    "# No characters are removed.\n",
    "\n",
    "print(random_string.lstrip('sti'))\n",
    "\n",
    "print(random_string.lstrip('s ti'))\n",
    "\n",
    "website = 'https://www.upsc.com/'\n",
    "print(website.lstrip('htps:/.'))\n",
    " # lstrip() removes characters from the left based on the argument (a string specifying the set of characters to be removed).\n"
   ]
  },
  {
   "cell_type": "code",
   "execution_count": 16,
   "id": "b13d8fd6-7f78-4fc2-be08-52e07bf7b7dd",
   "metadata": {},
   "outputs": [
    {
     "name": "stdout",
     "output_type": "stream",
     "text": [
      "Python Programming\n"
     ]
    }
   ],
   "source": [
    "# rstrip()\n",
    "\n",
    "title = 'Python Programming   '\n",
    "\n",
    "# remove trailing whitespace from title\n",
    "\n",
    "result = title.rstrip()\n",
    "print(result)\n",
    "\n",
    "# rstrip() method returns a copy of the string with trailing characters removed (based on the string argument passed)\n",
    "\n",
    "# Output: Python Programming \n"
   ]
  },
  {
   "cell_type": "code",
   "execution_count": 17,
   "id": "30346477-ec9e-4e17-9605-a69d65866907",
   "metadata": {},
   "outputs": [
    {
     "name": "stdout",
     "output_type": "stream",
     "text": [
      "I love india\n"
     ]
    }
   ],
   "source": [
    "# strip()\n",
    "\n",
    "message = '     I love india  '\n",
    "\n",
    "# remove leading and trailing whitespaces\n",
    "print(message.strip())\n",
    "\n",
    "# Output: I love india\n"
   ]
  },
  {
   "cell_type": "code",
   "execution_count": 18,
   "id": "2c61919e-621d-4533-bf31-6b4cefb0ea19",
   "metadata": {},
   "outputs": [
    {
     "name": "stdout",
     "output_type": "stream",
     "text": [
      "('Python ', 'is ', 'fun')\n",
      "('Python is fun', '', '')\n",
      "('Python ', 'is', \" fun, isn't it\")\n"
     ]
    }
   ],
   "source": [
    "# string partition\n",
    "\n",
    "string = \"Python is fun\"\n",
    "\n",
    "# 'is' separator is found\n",
    "print(string.partition('is '))\n",
    "\n",
    "# 'not' separator is not found\n",
    "print(string.partition('not '))\n",
    "\n",
    "string = \"Python is fun, isn't it\"\n",
    "\n",
    "# splits at first occurence of 'is'\n",
    "\n",
    "print(string.partition('is'))"
   ]
  },
  {
   "cell_type": "code",
   "execution_count": 19,
   "id": "1f11dc32-c6c3-4f2b-b1fa-0527b3512c24",
   "metadata": {},
   "outputs": [
    {
     "name": "stdout",
     "output_type": "stream",
     "text": [
      "{97: '123', 98: '456', 99: '789'}\n",
      "{97: '123', 98: '456', 99: '789'}\n"
     ]
    }
   ],
   "source": [
    "# maketrans()\n",
    "\n",
    "dict = {\n",
    "        \"a\": \"123\", \n",
    "        \"b\": \"456\", \n",
    "        \"c\": \"789\"\n",
    "       }\n",
    "string = \"abc\"\n",
    "print(string.maketrans(dict))\n",
    "\n",
    "\n",
    "dict = {97: \"123\", 98: \"456\", 99: \"789\"}\n",
    "string = \"abc\"\n",
    "print(string.maketrans(dict))\n",
    "\n",
    "# dict is defined which contains a mapping of characters a,b and c to 123, 456, and 789 respectively.maketrans() creates a mapping of the character's Unicode ordinal to its corresponding translation.\n",
    "# So, 97 ('a') is mapped to '123', 98 'b' to 456 and 99 'c' to 789. This can be demonstrated from the output of both dictionaries.\n",
    "\n",
    "# output: {97: '123', 98: '456', 99: '789'}\n",
    "#          {97: '123', 98: '456', 99: '789'}"
   ]
  },
  {
   "cell_type": "code",
   "execution_count": 20,
   "id": "75bf4bbc-3073-46cf-b2e1-87cbddca4247",
   "metadata": {},
   "outputs": [
    {
     "name": "stdout",
     "output_type": "stream",
     "text": [
      "Original string: abcdef\n",
      "Translated string: idef\n"
     ]
    }
   ],
   "source": [
    "# String translate()\n",
    "\n",
    "# first string\n",
    "firstString = \"abc\"\n",
    "secondString = \"ghi\"\n",
    "thirdString = \"ab\"\n",
    "\n",
    "string = \"abcdef\"\n",
    "print(\"Original string:\", string)\n",
    "\n",
    "translation = string.maketrans(firstString, secondString, thirdString)\n",
    "\n",
    "\n",
    "print(\"Translated string:\", string.translate(translation))\n",
    "\n",
    "# the translation mapping translation contains the mapping from a, b and c to g, h and i respectively.\n",
    "\n",
    "# output: Original string: abcdef\n",
    "#       Translated string: idef\n"
   ]
  },
  {
   "cell_type": "code",
   "execution_count": 25,
   "id": "1e9159e2-5bfe-469d-82ce-330c720a38b9",
   "metadata": {},
   "outputs": [
    {
     "name": "stdout",
     "output_type": "stream",
     "text": [
      "hurt, hurt heart\n",
      "Let it be, don't let it be, don't let it be, let it be\n"
     ]
    }
   ],
   "source": [
    "# replace()\n",
    "\n",
    "song = 'cold, cold heart'\n",
    "\n",
    "# replacing 'cold' with 'hurt'\n",
    "print(song.replace('cold', 'hurt'))\n",
    "\n",
    "song = 'Let it be, let it be, let it be, let it be'\n",
    "\n",
    "# replacing only two occurrences of 'let'\n",
    "print(song.replace('let', \"don't let\", 2))\n",
    "\n",
    "# output: hurt, hurt heart\n",
    "#         Let it be, don't let it be, don't let it be, let it be\n"
   ]
  },
  {
   "cell_type": "code",
   "execution_count": 27,
   "id": "da0e478b-160d-4ece-b160-559b7a6bf2c3",
   "metadata": {},
   "outputs": [
    {
     "name": "stdout",
     "output_type": "stream",
     "text": [
      "My Favorite Number Is 7.\n",
      "234 K3L2 *43 Gun\n"
     ]
    }
   ],
   "source": [
    "# title()\n",
    "\n",
    "text = 'My favorite number is 7.'\n",
    "print(text.title())\n",
    "\n",
    "text = '234 k3l2 *43 Gun'\n",
    "print(text.title())\n",
    "\n",
    "# output: My Favorite Number Is 7.\n",
    "#         234 K3L2 *43 Gun\n"
   ]
  },
  {
   "cell_type": "code",
   "execution_count": 28,
   "id": "34542976-dda9-4682-9396-2aaf23fb9913",
   "metadata": {},
   "outputs": [
    {
     "name": "stdout",
     "output_type": "stream",
     "text": [
      "He'S An Data Scientist, Isn'T He?\n"
     ]
    }
   ],
   "source": [
    "# title() with apostrophes\n",
    "\n",
    "text = \"He's an data scientist, isn't he?\"\n",
    "print(text.title())\n",
    "\n",
    "# title() capitalizes the first letter after apostrophes as well.\n",
    "\n",
    "# output: He'S An Data Scientist, Isn'T He?\n"
   ]
  },
  {
   "cell_type": "code",
   "execution_count": 31,
   "id": "56e7cbe5-2031-4818-9e5a-40868c9aee31",
   "metadata": {},
   "outputs": [
    {
     "name": "stdout",
     "output_type": "stream",
     "text": [
      "0program is fun\n",
      "000000program is fun\n",
      "program is fun\n"
     ]
    }
   ],
   "source": [
    "# zfill()\n",
    "\n",
    "text = \"program is fun\"\n",
    "print(text.zfill(15))\n",
    "print(text.zfill(20))\n",
    "print(text.zfill(10))\n",
    "\n",
    "# zfill() returns a copy of the string with 0 filled to the left. The length of the returned string depends on the width provided\n",
    "# the initial length of the string is 10. And, the width is specified 15. In this case, zfill() returns a copy of the string with five '0' digits filled to the left.\n",
    "\n",
    "# output: 0program is fun\n",
    "#        000000program is fun\n",
    "#        program is fun\n"
   ]
  },
  {
   "cell_type": "code",
   "execution_count": null,
   "id": "df4cdb5f-834a-458a-9d4c-529b8dd2e250",
   "metadata": {},
   "outputs": [],
   "source": []
  }
 ],
 "metadata": {
  "kernelspec": {
   "display_name": "Python 3 (ipykernel)",
   "language": "python",
   "name": "python3"
  },
  "language_info": {
   "codemirror_mode": {
    "name": "ipython",
    "version": 3
   },
   "file_extension": ".py",
   "mimetype": "text/x-python",
   "name": "python",
   "nbconvert_exporter": "python",
   "pygments_lexer": "ipython3",
   "version": "3.12.7"
  }
 },
 "nbformat": 4,
 "nbformat_minor": 5
}
