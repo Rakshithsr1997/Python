{
 "cells": [
  {
   "cell_type": "code",
   "execution_count": 8,
   "id": "a13299b4-d470-4351-859a-1422ee64a152",
   "metadata": {},
   "outputs": [
    {
     "name": "stdout",
     "output_type": "stream",
     "text": [
      "<class 'str'>\n",
      "<class 'int'>\n",
      "<class 'float'>\n"
     ]
    }
   ],
   "source": [
    "Name =\"Rakshi\"\n",
    "age=25\n",
    "height=1.75\n",
    "print(type(Name))      #will print string type\n",
    "print(type(age))       #will print integer type\n",
    "print(type(height))    #will print float type\n"
   ]
  },
  {
   "cell_type": "code",
   "execution_count": 2,
   "id": "29e99698-5b06-416f-841b-0a155f21a786",
   "metadata": {},
   "outputs": [
    {
     "name": "stdout",
     "output_type": "stream",
     "text": [
      "i am 27 years old\n"
     ]
    }
   ],
   "source": [
    "age=27\n",
    "print(\"i am \" + str(age) + \" years old\") #concatenated with sentence"
   ]
  },
  {
   "cell_type": "code",
   "execution_count": 4,
   "id": "b6e6284b-90e9-47fb-9988-4eeff2b0432f",
   "metadata": {},
   "outputs": [
    {
     "name": "stdout",
     "output_type": "stream",
     "text": [
      "1334\n"
     ]
    }
   ],
   "source": [
    "number_string=\"1234\"     # Storing the value as a string\n",
    "number_integer=int(number_string)  # Converting it to an integer\n",
    "add = number_integer + 100    # Adding 100 to the integer\n",
    "\n",
    "print(add)   "
   ]
  },
  {
   "cell_type": "code",
   "execution_count": 16,
   "id": "46f06279-7f8d-460c-8a30-a18605cb95e9",
   "metadata": {},
   "outputs": [
    {
     "name": "stdout",
     "output_type": "stream",
     "text": [
      "name: <class 'str'>\n",
      "age: <class 'int'>\n",
      "height: <class 'float'>\n",
      "is_boy: <class 'bool'>\n"
     ]
    }
   ],
   "source": [
    "name=\"Rakshith\"          # String\n",
    "age=25                   # Integer\n",
    "height=1.75              # Float\n",
    "is_boy=True              # Boolean\n",
    "num=[1, 2, 3, 4]         # List\n",
    "\n",
    "print(f\"name: {type(name)}\")\n",
    "print(f\"age: {type(age)}\")\n",
    "print(f\"height: {type(height)}\")\n",
    "print(f\"is_boy: {type(is_boy)}\")"
   ]
  },
  {
   "cell_type": "code",
   "execution_count": 21,
   "id": "3583fe31-fbdd-435c-a292-66f5e39e3cf7",
   "metadata": {},
   "outputs": [
    {
     "name": "stdin",
     "output_type": "stream",
     "text": [
      "name:  rakshith\n",
      "age:  27\n",
      "favourite number:  40.7\n"
     ]
    },
    {
     "name": "stdout",
     "output_type": "stream",
     "text": [
      "My name is rakshith, I am 27 years old, and my favourite number is 40.7\n"
     ]
    }
   ],
   "source": [
    "#getting inputs for a user’s name, age, and favorite number\n",
    "name=input(\"name: \")  \n",
    "age=input(\"age: \")\n",
    "favourite_num=input(\"favourite number: \")\n",
    "\n",
    "#Concatenating the inputs into a single sentence to print\n",
    "print(\"My name is \" + name + \", I am \" + age + \" years old, and my favourite number is \" + favourite_num)"
   ]
  },
  {
   "cell_type": "code",
   "execution_count": null,
   "id": "6d248934-9bbc-4b64-bd23-cc46b5c69772",
   "metadata": {},
   "outputs": [],
   "source": []
  }
 ],
 "metadata": {
  "kernelspec": {
   "display_name": "Python 3 (ipykernel)",
   "language": "python",
   "name": "python3"
  },
  "language_info": {
   "codemirror_mode": {
    "name": "ipython",
    "version": 3
   },
   "file_extension": ".py",
   "mimetype": "text/x-python",
   "name": "python",
   "nbconvert_exporter": "python",
   "pygments_lexer": "ipython3",
   "version": "3.12.7"
  }
 },
 "nbformat": 4,
 "nbformat_minor": 5
}
