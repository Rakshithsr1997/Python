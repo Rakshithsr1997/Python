{
 "cells": [
  {
   "cell_type": "code",
   "execution_count": 1,
   "id": "11afeb7c-a3e8-4fec-9edd-7ed49ee33e03",
   "metadata": {},
   "outputs": [
    {
     "name": "stdout",
     "output_type": "stream",
     "text": [
      "My First Program - Python with Print function\n",
      "It is declared as:\n",
      "Hello, How was your day?\n"
     ]
    }
   ],
   "source": [
    "#Each print function prints the text on a new line \n",
    "\n",
    "print(\"My First Program - Python with Print function\")\n",
    "print(\"It is declared as:\")\n",
    "print('Hello, How was your day?')"
   ]
  },
  {
   "cell_type": "code",
   "execution_count": 3,
   "id": "16ea945c-d757-4b8b-9e26-55826f177293",
   "metadata": {},
   "outputs": [
    {
     "name": "stdout",
     "output_type": "stream",
     "text": [
      "My First Program - Python with Print function\n",
      "It is declared as:\n",
      "Hello, How was your day\n"
     ]
    }
   ],
   "source": [
    "#used triple single qoutes to print multiple line string\n",
    "\n",
    "print('''My First Program - Python with Print function\n",
    "It is declared as:\n",
    "Hello, How was your day''')"
   ]
  },
  {
   "cell_type": "code",
   "execution_count": 4,
   "id": "8877bafd-f0c2-4699-9c2c-8bb0a18d46e1",
   "metadata": {},
   "outputs": [
    {
     "name": "stdout",
     "output_type": "stream",
     "text": [
      "Python Programming is:\n",
      "    - Easy to learn\n",
      "    - Powerful and versatile\n",
      "    - Used in Data Science, Web Development, and more\n"
     ]
    }
   ],
   "source": [
    "#used triple double quotes to define the multiline string\n",
    "\n",
    "print(\"\"\"Python Programming is:\n",
    "    - Easy to learn\n",
    "    - Powerful and versatile\n",
    "    - Used in Data Science, Web Development, and more\"\"\")"
   ]
  },
  {
   "cell_type": "code",
   "execution_count": 5,
   "id": "bcb38853-6fe7-41a2-9ff8-9caf122a805a",
   "metadata": {},
   "outputs": [
    {
     "name": "stdout",
     "output_type": "stream",
     "text": [
      "\"Learning Python is fun!\"\n",
      " - said by a Python enthusiast \n"
     ]
    }
   ],
   "source": [
    "#escape sequence (\"\\ & \\\")is used to insert quotes inside the string\n",
    "#Each print function call prints the respective lines.\n",
    "\n",
    "print(\"\\\"Learning Python is fun!\\\"\")\n",
    "print(\" - said by a Python enthusiast \")"
   ]
  },
  {
   "cell_type": "code",
   "execution_count": 6,
   "id": "5f4f4057-9236-420e-b2cb-4af5bb06ea1d",
   "metadata": {},
   "outputs": [
    {
     "name": "stdout",
     "output_type": "stream",
     "text": [
      "Python is powerful. It is easy to learn. Let's master it!\n"
     ]
    }
   ],
   "source": [
    "#used + operator to concatenate multiple lines into single.\n",
    "#space is added  after completion of each sentence to define proper spacing between them.\n",
    "\n",
    "print(\"Python is powerful. \" + \"It is easy to learn. \" + \"Let's master it!\")"
   ]
  },
  {
   "cell_type": "code",
   "execution_count": null,
   "id": "48bc9ed9-9a67-4abd-9096-51c430692bef",
   "metadata": {},
   "outputs": [],
   "source": []
  }
 ],
 "metadata": {
  "kernelspec": {
   "display_name": "Python 3 (ipykernel)",
   "language": "python",
   "name": "python3"
  },
  "language_info": {
   "codemirror_mode": {
    "name": "ipython",
    "version": 3
   },
   "file_extension": ".py",
   "mimetype": "text/x-python",
   "name": "python",
   "nbconvert_exporter": "python",
   "pygments_lexer": "ipython3",
   "version": "3.12.7"
  }
 },
 "nbformat": 4,
 "nbformat_minor": 5
}
