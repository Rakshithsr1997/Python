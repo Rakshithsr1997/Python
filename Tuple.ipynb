{
 "cells": [
  {
   "cell_type": "code",
   "execution_count": 2,
   "id": "566e84bd-6429-4c7c-b1b6-b3d1ed0a18e0",
   "metadata": {},
   "outputs": [],
   "source": [
    "#### Creating a Tuple with One Element:\n",
    "\n",
    "\n",
    "single_element_tuple = (\"apple\",)  #To create a tuple with only one element, include a trailing comma"
   ]
  },
  {
   "cell_type": "code",
   "execution_count": 3,
   "id": "e5be3dfe-80a5-40a2-b791-1bcd5214b37c",
   "metadata": {},
   "outputs": [
    {
     "name": "stdout",
     "output_type": "stream",
     "text": [
      "apple\n",
      "cherry\n"
     ]
    }
   ],
   "source": [
    "###2. Accessing Tuple Elements:\n",
    "\n",
    "###You can access elements in a tuple using indexing like in a list\n",
    "\n",
    "fruits = (\"apple\", \"banana\", \"cherry\")\n",
    "print(fruits[0])  # Output: apple\n",
    "print(fruits[-1])  # Output: cherry"
   ]
  },
  {
   "cell_type": "code",
   "execution_count": 5,
   "id": "4cc7917d-7021-496c-946c-f1fb38b28fd0",
   "metadata": {},
   "outputs": [
    {
     "name": "stdout",
     "output_type": "stream",
     "text": [
      "('banana', 'cherry')\n"
     ]
    }
   ],
   "source": [
    "###Slicing Tuples:\n",
    "###You can also slice tuples to access a subset of the elements.\n",
    "\n",
    "print(fruits[1:3])  # Output: ('banana', 'cherry')"
   ]
  },
  {
   "cell_type": "code",
   "execution_count": 7,
   "id": "d4b24c52-c106-4801-8be1-ce18780cba39",
   "metadata": {},
   "outputs": [
    {
     "name": "stdout",
     "output_type": "stream",
     "text": [
      "(1, 2, 3, 4, 5, 6)\n"
     ]
    }
   ],
   "source": [
    "####Tuple Concatenation:\n",
    "\n",
    "\n",
    "tuple1 = (1, 2, 3)\n",
    "tuple2 = (4, 5, 6)\n",
    "combined_tuple = tuple1 + tuple2 #You can combine two or more tuples using the `+` operator\n",
    "print(combined_tuple)  # Output: (1, 2, 3, 4, 5, 6)"
   ]
  },
  {
   "cell_type": "code",
   "execution_count": 8,
   "id": "d1f12793-746e-4e2e-90d7-4d1791f4b5f8",
   "metadata": {},
   "outputs": [
    {
     "name": "stdout",
     "output_type": "stream",
     "text": [
      "(1, 2, 1, 2, 1, 2)\n"
     ]
    }
   ],
   "source": [
    "#### Tuple Repetition:\n",
    "\n",
    "\n",
    "repeated_tuple = (1, 2) * 3  #You can repeat a tuple multiple times using the * operator\n",
    "print(repeated_tuple)  # Output: (1, 2, 1, 2, 1, 2)"
   ]
  },
  {
   "cell_type": "code",
   "execution_count": 10,
   "id": "eeab148b-10a3-4707-b5ce-55291edeb5d9",
   "metadata": {},
   "outputs": [
    {
     "name": "stdout",
     "output_type": "stream",
     "text": [
      "True\n"
     ]
    }
   ],
   "source": [
    "#### Checking Membership:\n",
    "\n",
    "empployee_name=('rakshi','deekshi','dhoni','sachin')\n",
    "print(\"rakshi\" in empployee_name ) #You can check if an item exists in a tuple using the `in` operator # Output: True"
   ]
  },
  {
   "cell_type": "code",
   "execution_count": 12,
   "id": "d0c70f56-29cb-4d6a-8a0c-5d57c36203c1",
   "metadata": {},
   "outputs": [
    {
     "name": "stdout",
     "output_type": "stream",
     "text": [
      "3\n"
     ]
    }
   ],
   "source": [
    "###count(): \n",
    "num = (1, 2, 3, 1, 1)\n",
    "print(num.count(1)) #Returns the number of times an element appears in the tuple # Output: 3"
   ]
  },
  {
   "cell_type": "code",
   "execution_count": 14,
   "id": "e945f4b0-e116-4c25-bf42-2fe4d2009306",
   "metadata": {},
   "outputs": [
    {
     "name": "stdout",
     "output_type": "stream",
     "text": [
      "1\n"
     ]
    }
   ],
   "source": [
    "###index(): Returns the index of the first occurrence of an element.\n",
    "  \n",
    "fruits = (\"apple\", \"banana\", \"cherry\")\n",
    "print(fruits.index(\"banana\"))  # Output: 1"
   ]
  },
  {
   "cell_type": "code",
   "execution_count": null,
   "id": "5dea0bbd-c6f4-4ff3-93d0-cf7cc81d8f2d",
   "metadata": {},
   "outputs": [],
   "source": []
  }
 ],
 "metadata": {
  "kernelspec": {
   "display_name": "Python 3 (ipykernel)",
   "language": "python",
   "name": "python3"
  },
  "language_info": {
   "codemirror_mode": {
    "name": "ipython",
    "version": 3
   },
   "file_extension": ".py",
   "mimetype": "text/x-python",
   "name": "python",
   "nbconvert_exporter": "python",
   "pygments_lexer": "ipython3",
   "version": "3.12.7"
  }
 },
 "nbformat": 4,
 "nbformat_minor": 5
}
