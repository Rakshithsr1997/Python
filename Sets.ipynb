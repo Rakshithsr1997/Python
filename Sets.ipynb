{
 "cells": [
  {
   "cell_type": "code",
   "execution_count": 2,
   "id": "1b149d8e-620d-4180-80b7-4a9180a35ebf",
   "metadata": {},
   "outputs": [
    {
     "name": "stdout",
     "output_type": "stream",
     "text": [
      "Vowels are: {'i', 'u', 'o', 'e', 'a'}\n",
      "Vowels are: {'i', 'u', 'o', 'e', 'a'}\n"
     ]
    }
   ],
   "source": [
    "# methods in sets\n",
    "\n",
    "# 1.set add():\n",
    "\n",
    "vowels = {'a', 'e', 'i', 'u'}\n",
    "\n",
    "vowels.add('o')\n",
    "print('Vowels are:', vowels)\n",
    "\n",
    "\n",
    "vowels.add('a')\n",
    "print('Vowels are:', vowels)\n",
    "\n",
    "\n",
    "# output: Vowels are: {'i', 'u', 'o', 'e', 'a'}\n",
    "#         Vowels are: {'i', 'u', 'o', 'e', 'a'}\n"
   ]
  },
  {
   "cell_type": "code",
   "execution_count": 3,
   "id": "169d337e-b27a-4de3-a91d-e1ac39d3bc43",
   "metadata": {},
   "outputs": [
    {
     "name": "stdout",
     "output_type": "stream",
     "text": [
      "Vowels are: {'a', ('i', 'o'), 'u', 'e'}\n",
      "Vowels are: {'a', ('i', 'o'), 'u', 'e'}\n"
     ]
    }
   ],
   "source": [
    "# Add tuple to a set\n",
    "\n",
    "vowels = {'a', 'e', 'u'}\n",
    "\n",
    "\n",
    "tup = ('i', 'o')\n",
    "\n",
    "\n",
    "vowels.add(tup)\n",
    "print('Vowels are:', vowels)\n",
    "\n",
    "\n",
    "vowels.add(tup)\n",
    "print('Vowels are:', vowels)\n",
    "\n",
    "\n",
    "# output: Vowels are: {'a', ('i', 'o'), 'u', 'e'}\n",
    "#         Vowels are: {'a', ('i', 'o'), 'u', 'e'}\n"
   ]
  },
  {
   "cell_type": "code",
   "execution_count": 8,
   "id": "130605b1-2407-421b-a358-1d292a89a735",
   "metadata": {},
   "outputs": [
    {
     "name": "stdout",
     "output_type": "stream",
     "text": [
      "Strings (before clear): {'rakshi', 'spicky', 'deekshi'}\n",
      "Strings (after clear): set()\n"
     ]
    }
   ],
   "source": [
    "# 2.clear() method\n",
    "\n",
    "names = {'rakshi', 'deekshi', 'spicky'}\n",
    "print('Strings (before clear):', names)\n",
    "\n",
    "\n",
    "names.clear()\n",
    "print('Strings (after clear):', names)\n",
    "\n",
    "\n",
    "# output: Strings (before clear): {'rakshi', 'spicky', 'deekshi'}\n",
    "#          Strings (after clear): set()\n",
    "\n"
   ]
  },
  {
   "cell_type": "code",
   "execution_count": 9,
   "id": "6fa73bab-b5e5-4957-9680-de10b96d82f2",
   "metadata": {},
   "outputs": [
    {
     "name": "stdout",
     "output_type": "stream",
     "text": [
      "Original Names:  {'Charlie', 'rakshi', 'spicky'}\n",
      "Copied Names:  {'Charlie', 'rakshi', 'spicky'}\n"
     ]
    }
   ],
   "source": [
    "# 3.copy()\n",
    "\n",
    "names = {\"rakshi\", \"Charlie\", \"spicky\"}\n",
    "\n",
    "\n",
    "new_names = names.copy()\n",
    "\n",
    "print('Original Names: ', names)\n",
    "print('Copied Names: ', new_names)\n",
    "\n",
    "# output: Original Names:  {'Charlie', 'rakshi', 'spicky'}\n",
    "# Copied Names:  {'Charlie', 'rakshi', 'spicky'}\n"
   ]
  },
  {
   "cell_type": "code",
   "execution_count": 10,
   "id": "653e7394-1b8b-43e5-ac17-8b0c5d95aa0a",
   "metadata": {},
   "outputs": [
    {
     "name": "stdout",
     "output_type": "stream",
     "text": [
      "Original Names:  {'kane', 'John cena', 'undertaker'}\n",
      "Copied Names:  {'kane', 'John cena', 'undertaker'}\n"
     ]
    }
   ],
   "source": [
    "# Copy Set using = operator\n",
    "\n",
    "names = {\"John cena\", \"kane\", \"undertaker\"}\n",
    "\n",
    "new_names = names\n",
    "\n",
    "print('Original Names: ', names)\n",
    "print('Copied Names: ', new_names)\n",
    "\n",
    "# output: Original Names:  {'kane', 'John cena', 'undertaker'}\n",
    "#           Copied Names:  {'kane', 'John cena', 'undertaker'}\n"
   ]
  },
  {
   "cell_type": "code",
   "execution_count": 11,
   "id": "fbad022b-147e-4271-af53-7ce35bfe2e20",
   "metadata": {},
   "outputs": [
    {
     "name": "stdout",
     "output_type": "stream",
     "text": [
      "numbers:  {1, 2, 3, 4}\n",
      "new_numbers:  {1, 2, 3, 4, 5}\n"
     ]
    }
   ],
   "source": [
    "# Adding items to the set after copy()\n",
    "\n",
    "numbers = {1, 2, 3, 4}\n",
    "new_numbers = numbers\n",
    "\n",
    "print('numbers: ', numbers)\n",
    "\n",
    "\n",
    "new_numbers.add(5)\n",
    "\n",
    "print('new_numbers: ', new_numbers)\n",
    "\n",
    "# output: numbers:  {1, 2, 3, 4}\n",
    "#     new_numbers:  {1, 2, 3, 4, 5}"
   ]
  },
  {
   "cell_type": "code",
   "execution_count": 12,
   "id": "12bb9c10-b8ad-42b8-b2f6-877ea4db5c6f",
   "metadata": {},
   "outputs": [
    {
     "name": "stdout",
     "output_type": "stream",
     "text": [
      "{'a', 'd', 'b'}\n",
      "{'g', 'f'}\n"
     ]
    }
   ],
   "source": [
    "# 4.Set difference()\n",
    "\n",
    "A = {'a', 'b', 'c', 'd'}\n",
    "B = {'c', 'f', 'g'}\n",
    "\n",
    "\n",
    "print(A.difference(B))\n",
    "\n",
    "print(B.difference(A))\n",
    "\n",
    "#  used the difference() method to compute the set differences of two sets A and B.\n",
    "#  A.difference(B) that is A-B returns a set with elements unique to set A\n",
    "#  B.difference(A) that is B-A returns a set with elements unique to set B\n",
    "\n",
    "# output: {'a', 'd', 'b'}\n",
    "#         {'g', 'f'}\n"
   ]
  },
  {
   "cell_type": "code",
   "execution_count": 13,
   "id": "3405cc9c-cad0-40dd-9abf-9b198cac145b",
   "metadata": {},
   "outputs": [
    {
     "name": "stdout",
     "output_type": "stream",
     "text": [
      "{'a', 'd', 'b'}\n",
      "{'g', 'f'}\n"
     ]
    }
   ],
   "source": [
    "# Using - Operator\n",
    "\n",
    "A = {'a', 'b', 'c', 'd'}\n",
    "B = {'c', 'f', 'g'}\n",
    "\n",
    "\n",
    "print(A - B)\n",
    "\n",
    "print(B - A)\n",
    "\n",
    "# output: {'a', 'd', 'b'}\n",
    "#         {'g', 'f'}\n"
   ]
  },
  {
   "cell_type": "code",
   "execution_count": 14,
   "id": "fa5bdd99-2683-4cd2-807f-ba262bfc3fbc",
   "metadata": {},
   "outputs": [
    {
     "name": "stdout",
     "output_type": "stream",
     "text": [
      "A before (A - B) = {'a', 'd', 'c', 'g'}\n",
      "A after (A - B) =  {'a', 'd'}\n"
     ]
    }
   ],
   "source": [
    "# 5.difference_update()\n",
    "\n",
    "A = {'a', 'c', 'g', 'd'}\n",
    "B = {'c', 'f', 'g'}\n",
    "\n",
    "print('A before (A - B) =', A)\n",
    "\n",
    "A.difference_update(B)\n",
    "\n",
    "print('A after (A - B) = ', A)\n",
    "\n",
    "# used the difference_update() method to compute the difference between two sets A and B and update set A with the resulting set. A.difference_update(B) performs A - B and updates set A with value {'a', 'd'}\n",
    "\n",
    "# output: A before (A - B) = {'a', 'd', 'c', 'g'}\n",
    "#          A after (A - B) =  {'a', 'd'}\n"
   ]
  },
  {
   "cell_type": "code",
   "execution_count": 15,
   "id": "1cc1cd62-8d21-4766-8682-10f9544c80c7",
   "metadata": {},
   "outputs": [
    {
     "name": "stdout",
     "output_type": "stream",
     "text": [
      "Set after discard: {2, 4, 5}\n"
     ]
    }
   ],
   "source": [
    "# Set discard()\n",
    "\n",
    "numbers = {2, 3, 4, 5}\n",
    "\n",
    "numbers.discard(3)\n",
    "\n",
    "print('Set after discard:', numbers)\n",
    "\n",
    "# used discard() to remove an item from the set. The resulting set doesn't have the item 3 in it as the discard() method has removed it.\n",
    "\n",
    "# output: set after discard: {2, 4, 5}"
   ]
  },
  {
   "cell_type": "code",
   "execution_count": 16,
   "id": "5b490cab-ae7c-4fe1-ad5a-c6666ca21050",
   "metadata": {},
   "outputs": [
    {
     "name": "stdout",
     "output_type": "stream",
     "text": [
      "Set before discard: {2, 3, 4, 5}\n",
      "Set after discard: {2, 3, 4, 5}\n"
     ]
    }
   ],
   "source": [
    "# Set discard with a non-existent item()\n",
    "\n",
    "numbers = {2, 3, 5, 4}\n",
    "print('Set before discard:', numbers)\n",
    "\n",
    "\n",
    "numbers.discard(10)\n",
    "\n",
    "print('Set after discard:', numbers)\n",
    "\n",
    "# used the discard() method to discard the item that is not present in the set. In this case, the original set numbers i.e. {2, 3, 5, 4} are left unchanged\n",
    "\n",
    "# output: Set before discard: {2, 3, 4, 5}\n",
    "#          Set after discard: {2, 3, 4, 5}\n"
   ]
  },
  {
   "cell_type": "code",
   "execution_count": 19,
   "id": "10b5cc3b-b2f8-4fb3-9277-4e43c8a2dbcb",
   "metadata": {},
   "outputs": [
    {
     "name": "stdout",
     "output_type": "stream",
     "text": [
      "{5}\n",
      "{2}\n",
      "{3}\n",
      "set()\n"
     ]
    }
   ],
   "source": [
    "# 6.Set intersection()\n",
    "\n",
    "A = {1, 3, 5, 4}\n",
    "B = {2, 5, 100}\n",
    "C = {2, 3, 8, 9, 10}\n",
    "\n",
    "print(B.intersection(A))\n",
    "print(B.intersection(C))\n",
    "print(A.intersection(C))\n",
    "\n",
    "print(C.intersection(A, B))\n",
    "\n",
    "\n",
    "# output: {5}\n",
    "#         {2}\n",
    "#         {3}\n",
    "#       set()\n"
   ]
  },
  {
   "cell_type": "code",
   "execution_count": 26,
   "id": "b1f7338f-2dcb-4280-a223-570b46ac6691",
   "metadata": {},
   "outputs": [
    {
     "name": "stdout",
     "output_type": "stream",
     "text": [
      "{7}\n",
      "{100}\n",
      "set()\n",
      "set()\n"
     ]
    }
   ],
   "source": [
    "# Set Intersection Using & operator\n",
    "\n",
    "A = {100, 7, 8}\n",
    "B = {200, 4, 5}\n",
    "C = {300, 2, 3, 7}\n",
    "D = {100, 200, 300}\n",
    "\n",
    "print(A & C)\n",
    "print(A & D)\n",
    "\n",
    "print(A & C & D)\n",
    "\n",
    "print(A & B & C & D)\n",
    "\n",
    "# output: {7}\n",
    "#        {100}\n",
    "#       set()\n",
    "#       set()\n"
   ]
  },
  {
   "cell_type": "code",
   "execution_count": 27,
   "id": "fe581e34-3882-4998-ab58-33e943e3d92c",
   "metadata": {},
   "outputs": [
    {
     "name": "stdout",
     "output_type": "stream",
     "text": [
      "A and B are disjoint: True\n",
      "B and C are disjoint: False\n"
     ]
    }
   ],
   "source": [
    "# 7.Set disjoint()\n",
    "\n",
    "A = {1, 2, 3}\n",
    "B = {4, 5, 6}\n",
    "C = {6, 7, 8}\n",
    "\n",
    "print('A and B are disjoint:', A.isdisjoint(B))\n",
    "print('B and C are disjoint:', B.isdisjoint(C))\n",
    "\n",
    "# used isdisjoint() to check if set A, B and C are disjoint with each other.The set A and B are disjoint to each other as they do not have any common item. so it returned True. The set B and C have a common item, 6. So the method returns False.\n",
    "\n",
    "# output: A and B are disjoint: True\n",
    "#         B and C are disjoint: False\n"
   ]
  },
  {
   "cell_type": "code",
   "execution_count": 28,
   "id": "650d8932-3802-44a1-9fdd-48dbff5b8089",
   "metadata": {},
   "outputs": [
    {
     "name": "stdout",
     "output_type": "stream",
     "text": [
      "A is subset of B: True\n",
      "B is subset of A: False\n"
     ]
    }
   ],
   "source": [
    "# 8.issubset()\n",
    "\n",
    "A = {'a', 'c', 'e'}\n",
    "B = {'a', 'b', 'c', 'd', 'e'}\n",
    "\n",
    "print('A is subset of B:', A.issubset(B))\n",
    "print('B is subset of A:', B.issubset(A))\n",
    "\n",
    "# used  issubset() method to check if sets A and B are subsets of each other.Since all elements of A are present in B, the issubset(B) method returns True. On the other hand, set B is not a subset of A. Thus, we get the False with issubset(A)\n",
    "\n",
    "# output: A is subset of B: True\n",
    "#         B is subset of A: False\n"
   ]
  },
  {
   "cell_type": "code",
   "execution_count": 29,
   "id": "b942d095-1f07-4c07-80c4-28aee17722c7",
   "metadata": {},
   "outputs": [
    {
     "name": "stdout",
     "output_type": "stream",
     "text": [
      "True\n",
      "False\n",
      "True\n"
     ]
    }
   ],
   "source": [
    "# 9.issuperset()\n",
    "\n",
    "A = {1, 2, 3, 4, 5}\n",
    "B = {1, 2, 3}\n",
    "C = {1, 2, 3}\n",
    "\n",
    "# Returns True\n",
    "print(A.issuperset(B))\n",
    "\n",
    "# Returns False\n",
    "print(B.issuperset(A))\n",
    "\n",
    "# Returns True\n",
    "print(C.issuperset(B))\n",
    "\n",
    "# A is said to be the superset of set B if all elements of B are in A,so it returs true\n",
    "\n",
    "# output: True\n",
    "#         False\n",
    "#         True"
   ]
  },
  {
   "cell_type": "code",
   "execution_count": 31,
   "id": "33f9185f-4cbb-40d5-99b6-e773cbfe69ef",
   "metadata": {},
   "outputs": [
    {
     "name": "stdout",
     "output_type": "stream",
     "text": [
      "batsman U bowler = {'Rakshi', 'Deekshi', 'anjan', 'amith'}\n",
      "bowler U all_rounder = {'sanjay', 'Deekshi', 'anjan', 'amith', 'raj'}\n",
      "batsman U bowler U all_rounder = {'sanjay', 'Rakshi', 'Deekshi', 'anjan', 'amith', 'raj'}\n",
      "batsman.union() = {'anjan', 'Rakshi', 'Deekshi'}\n"
     ]
    }
   ],
   "source": [
    "# 10.Set union()\n",
    "\n",
    "batsman = {'Rakshi', 'Deekshi', 'anjan'}\n",
    "bowler = {'Deekshi', 'anjan', 'amith' }\n",
    "all_rounder = {'anjan', 'sanjay', 'raj'}\n",
    "\n",
    "print('batsman U bowler =', batsman.union(bowler))\n",
    "print('bowler U all_rounder =', bowler.union(all_rounder))\n",
    "print('batsman U bowler U all_rounder =', batsman.union(bowler, all_rounder))\n",
    "\n",
    "print('batsman.union() =', batsman.union())\n",
    "\n",
    "\n",
    "\n",
    "# output: batsman U bowler = {'Rakshi', 'Deekshi', 'anjan', 'amith'}\n",
    "#          bowler U all_rounder = {'sanjay', 'Deekshi', 'anjan', 'amith', 'raj'}\n",
    "#         batsman U bowler U all_rounder = {'sanjay', 'Rakshi', 'Deekshi', 'anjan', 'amith', 'raj'}\n",
    "#       batsman.union() = {'anjan', 'Rakshi', 'Deekshi'}"
   ]
  },
  {
   "cell_type": "code",
   "execution_count": 33,
   "id": "afc48746-3f7c-45ce-a32c-15791ca78797",
   "metadata": {},
   "outputs": [
    {
     "name": "stdout",
     "output_type": "stream",
     "text": [
      "{'kohli', 'messi', 'ronaldo', 'raina'}\n"
     ]
    }
   ],
   "source": [
    "# 11.symmetric_difference()\n",
    "\n",
    "cricketer = {'dhoni', 'raina', 'kohli'}\n",
    "foot_baller = {'dhoni', 'ronaldo', 'messi' }\n",
    "\n",
    "result = cricketer.symmetric_difference(foot_baller)\n",
    "\n",
    "print(result)\n",
    "\n",
    "#  used symmetric_difference() to return the symmetric difference of cricketer and foot_baller to the result variable.'dhoni' is present in both sets. So, the method returns all the items of cricketer and foot_baller to result except 'dhoni'.\n",
    "\n",
    "# output: {'kohli', 'messi', 'ronaldo', 'raina'}"
   ]
  },
  {
   "cell_type": "code",
   "execution_count": null,
   "id": "868553bc-4b4c-47cf-b553-30ec6ad0b6b4",
   "metadata": {},
   "outputs": [],
   "source": []
  }
 ],
 "metadata": {
  "kernelspec": {
   "display_name": "Python 3 (ipykernel)",
   "language": "python",
   "name": "python3"
  },
  "language_info": {
   "codemirror_mode": {
    "name": "ipython",
    "version": 3
   },
   "file_extension": ".py",
   "mimetype": "text/x-python",
   "name": "python",
   "nbconvert_exporter": "python",
   "pygments_lexer": "ipython3",
   "version": "3.12.7"
  }
 },
 "nbformat": 4,
 "nbformat_minor": 5
}
