{
 "cells": [
  {
   "cell_type": "code",
   "execution_count": 19,
   "id": "82f858ad-e580-45f1-a62d-e4b93c1372a8",
   "metadata": {},
   "outputs": [],
   "source": [
    "###various methods available in Python for working with Lists:extend,append(),clear(),copy(),count(),,index(),insert(),pop(),removed(),reverse(),sort(),sum,len\n",
    "###syntax for list: list_name=[element,element2,element3...]\n",
    "###examples for different data types: animals = [\"lion\", \"tiger\", \"deer\"],  numbers = [1, 2, 3, 4, 5],  mixed = [\"lion\", 3, True]"
   ]
  },
  {
   "cell_type": "code",
   "execution_count": 93,
   "id": "95d7de8e-f6b3-4780-a62a-517a4cdbb0c8",
   "metadata": {},
   "outputs": [
    {
     "name": "stdout",
     "output_type": "stream",
     "text": [
      "troposphere\n",
      "mesosphere\n",
      "1\n"
     ]
    }
   ],
   "source": [
    "### 1.Accessing List Elements using indexing:\n",
    "\n",
    "###You can access individual elements in a list using indexing.Python uses zero-based indexing, so the first item is at index 0\n",
    "###real time example: finding the rank of a particular candidate in exam\n",
    "\n",
    "atmosphere = [\"troposphere\", \"stratosphere\",\"mesosphere\", \"exosphere\"]\n",
    "\n",
    "print(atmosphere[0])  # Output: troposphere\n",
    "print(atmosphere[2])  # Output: mesosphere\n",
    "print(atmosphere.index(\"stratosphere\"))  #will print index value of specified element (output:1)      "
   ]
  },
  {
   "cell_type": "code",
   "execution_count": 21,
   "id": "a6fc2637-0e27-4c79-a39a-2852aa3a6c72",
   "metadata": {},
   "outputs": [
    {
     "name": "stdout",
     "output_type": "stream",
     "text": [
      "exosphere\n",
      "mesosphere\n"
     ]
    }
   ],
   "source": [
    "###negative indexing to access elements from the end of the list:\n",
    "\n",
    "print(atmosphere[-1])  # Output: exosphere\n",
    "print(atmosphere[-2])  # Output: mesosphere"
   ]
  },
  {
   "cell_type": "code",
   "execution_count": 24,
   "id": "6c525f9e-b816-44f3-9b6d-d5eba5408288",
   "metadata": {},
   "outputs": [
    {
     "name": "stdout",
     "output_type": "stream",
     "text": [
      "['troposphere', 'stratosphere', 'ionosphere', 'exosphere']\n"
     ]
    }
   ],
   "source": [
    "###2.mutable:Lists are mutable, which means you can change the value of items in a list.\n",
    "\n",
    "#### Changing a specific element:\n",
    "\n",
    "atmosphere[2] = \"ionosphere\" #replacing ionosphere in the place of index value 2\n",
    "print(atmosphere) #output:['troposphere', 'stratosphere', 'ionosphere', 'exosphere']\n"
   ]
  },
  {
   "cell_type": "code",
   "execution_count": 25,
   "id": "0336eaef-49b2-4c30-a56e-bcfe7fd10e87",
   "metadata": {},
   "outputs": [
    {
     "name": "stdout",
     "output_type": "stream",
     "text": [
      "['troposphere', 'stratosphere', 'ionosphere', 'exosphere', 'crust']\n"
     ]
    }
   ],
   "source": [
    "###3.adding elements: by using append, insertion and extend methods(example:\n",
    "\n",
    "###append():Adds an element to the end of the list\n",
    "######real time example:adding a new items to the cart\n",
    "atmosphere.append(\"crust\")\n",
    "print(atmosphere)  #output:['troposphere', 'stratosphere', 'ionosphere', 'exosphere', 'crust']"
   ]
  },
  {
   "cell_type": "code",
   "execution_count": 27,
   "id": "58fd2eb5-5b8b-42db-b4b9-d50689ea7fd9",
   "metadata": {},
   "outputs": [
    {
     "name": "stdout",
     "output_type": "stream",
     "text": [
      "['troposphere', 'stratosphere', 'rakshi', 'ionosphere', 'exosphere', 'crust']\n"
     ]
    }
   ],
   "source": [
    "###insert(): Inserts an element at a specific index\n",
    "###real time example:inserting a new subject into a specific position in a timetable\n",
    "\n",
    "atmosphere.insert(2,\"rakshi\")\n",
    "print(atmosphere)  #output:['troposphere', 'stratosphere', 'rakshi', 'ionosphere', 'exosphere', 'crust']"
   ]
  },
  {
   "cell_type": "code",
   "execution_count": 1,
   "id": "54fa2d0f-7b66-4193-a48a-943bd98ef641",
   "metadata": {},
   "outputs": [
    {
     "name": "stdout",
     "output_type": "stream",
     "text": [
      "[1, 2, 3, 4, 5, 6]\n"
     ]
    }
   ],
   "source": [
    "###extend:extend the list by appending all items from the iterable\n",
    "###real time example:adding a list of new players to an existing team\n",
    "\n",
    "a=[1,2,3,4]\n",
    "a.extend([5,6])   #prints 5 and 6 in the same list without nested list(output:[1,2,3,4,5,6])\n",
    "print(a)"
   ]
  },
  {
   "cell_type": "code",
   "execution_count": 2,
   "id": "a0bb8d6c-2dac-4803-ac92-94622145658d",
   "metadata": {},
   "outputs": [
    {
     "name": "stdout",
     "output_type": "stream",
     "text": [
      "[1, 2, 3, 4, 'l', 'i', 'o', 'n']\n"
     ]
    }
   ],
   "source": [
    "b=[1,2,3,4]\n",
    "b.extend(\"lion\") #argument should enclosed with square brace otherwise it will print one word into seperate letters in the same list\n",
    "print(b)"
   ]
  },
  {
   "cell_type": "code",
   "execution_count": 3,
   "id": "95370578-4fc5-47e8-8e2f-7746b63d3d9e",
   "metadata": {},
   "outputs": [
    {
     "name": "stdout",
     "output_type": "stream",
     "text": [
      "[1, 2, 3, 4, 'lion']\n"
     ]
    }
   ],
   "source": [
    "c=[1,2,3,4]\n",
    "c.extend([\"lion\"]) #output:[1,2,3,4,'lion']\n",
    "print(c)"
   ]
  },
  {
   "cell_type": "code",
   "execution_count": 39,
   "id": "22747cfc-1380-47b7-af48-fec4d7f8d31a",
   "metadata": {},
   "outputs": [
    {
     "name": "stdout",
     "output_type": "stream",
     "text": [
      "['troposphere', 'ionosphere', 'crust']\n"
     ]
    }
   ],
   "source": [
    "####4.Removing elements:using remove and pop\n",
    "###real time example:removing a employee from emoloyee list after they resigned\n",
    "###remove(): Removes the first occurrence of an element\n",
    "atmosphere.remove(\"stratosphere\") \n",
    "print(atmosphere)"
   ]
  },
  {
   "cell_type": "code",
   "execution_count": 40,
   "id": "614fad7b-dffd-4df8-bc45-e1b620c9dce2",
   "metadata": {},
   "outputs": [
    {
     "name": "stdout",
     "output_type": "stream",
     "text": [
      "['troposphere', 'ionosphere']\n"
     ]
    }
   ],
   "source": [
    "###pop(): Removes the element at a specific index (or the last item if no index is provided)\n",
    "###real time example:removing a product from a shopping cart when customer removes an item\n",
    "\n",
    "atmosphere.pop() #removes the last item\n",
    "print(atmosphere)"
   ]
  },
  {
   "cell_type": "code",
   "execution_count": 47,
   "id": "f1fa41ea-532a-4d60-ba24-0e740916f42a",
   "metadata": {},
   "outputs": [
    {
     "name": "stdout",
     "output_type": "stream",
     "text": [
      "['crust', 'mantle', 'core', 'iron']\n"
     ]
    }
   ],
   "source": [
    "earth=[\"crust\",\"mantle\",\"core\",\"iron\",\"alluminium\"]\n",
    "earth.pop()  #will remove last item\n",
    "print(earth)  #output:['crust', 'mantle', 'core', 'iron']\n"
   ]
  },
  {
   "cell_type": "code",
   "execution_count": 48,
   "id": "826268e9-56d0-4879-9c13-b64b3e1b5351",
   "metadata": {},
   "outputs": [
    {
     "name": "stdout",
     "output_type": "stream",
     "text": [
      "['crust', 'mantle', 'iron']\n"
     ]
    }
   ],
   "source": [
    "earth.pop(2) #will remove the index value of an item 2\n",
    "print(earth) "
   ]
  },
  {
   "cell_type": "code",
   "execution_count": 52,
   "id": "97f9456c-1070-4813-b722-b6e2f5d439df",
   "metadata": {},
   "outputs": [
    {
     "name": "stdout",
     "output_type": "stream",
     "text": [
      "[]\n"
     ]
    }
   ],
   "source": [
    "###5.clear(): Removes all elements from the list\n",
    "###real time example:emptying all products in a cart\n",
    "listed=[2,\"lion\",0.4,True,222,\"medicine\"] #will erase all elements in the list\n",
    "listed.clear()\n",
    "print(listed)"
   ]
  },
  {
   "cell_type": "code",
   "execution_count": 73,
   "id": "f61b3f74-669c-4bd4-ac83-7766ae858032",
   "metadata": {},
   "outputs": [
    {
     "name": "stdout",
     "output_type": "stream",
     "text": [
      "[2, 3, 4]\n",
      "[1, 2, 3, 4]\n"
     ]
    }
   ],
   "source": [
    "###6.Slicing List:You can extract a portion of a list using slicing\n",
    "num = [1, 2, 3, 4, 5, 6] \n",
    "\n",
    "print(num[1:4])     #(from index 1 to 3) and Output: [2, 3,4] \n",
    "\n",
    "print(numbers[:4])  # Output: [1, 2, 3,4] (from start to index 3)\n"
   ]
  },
  {
   "cell_type": "code",
   "execution_count": 76,
   "id": "df1c01c3-ce45-4583-a7c8-c6ccc659e591",
   "metadata": {},
   "outputs": [
    {
     "name": "stdout",
     "output_type": "stream",
     "text": [
      "[3, 4, 5, 6, 7, 8, 9]\n",
      "[1, 3, 5]\n"
     ]
    }
   ],
   "source": [
    "nbr=[1,2,3,4,5,6,7,8,9]\n",
    "print(nbr[2:])  #from index 2 to end and output is [3,4,5,6,7,8,9]\n",
    "\n",
    "print(numbers[::2])  #every 2nd element and Output is [1,3,5] every 2nd element"
   ]
  },
  {
   "cell_type": "code",
   "execution_count": 80,
   "id": "84b3c219-12f9-4f4a-8440-7f0f64ea25f5",
   "metadata": {},
   "outputs": [
    {
     "name": "stdout",
     "output_type": "stream",
     "text": [
      "5\n"
     ]
    }
   ],
   "source": [
    "###6.len(list): Returns the number of elements in the list\n",
    "\n",
    "lists=['lion',2,0.4,True,'tiger']\n",
    "print(len(lists)) #will print the number of elements in the list that is 5"
   ]
  },
  {
   "cell_type": "code",
   "execution_count": 84,
   "id": "a4be7e02-0474-45d7-9f1e-cfc9d8c1eed7",
   "metadata": {},
   "outputs": [
    {
     "name": "stdout",
     "output_type": "stream",
     "text": [
      "[1, 2, 5, 9]\n",
      "[5, 2, 9, 1]\n"
     ]
    }
   ],
   "source": [
    "###7.sorted(list): Returns a new sorted list without changing the original list\n",
    "\n",
    "numbers = [5, 2, 9, 1]\n",
    "print(sorted(numbers))  # Output: [1, 2, 5, 9]\n",
    "print(numbers)  # Original list remains unchanged: [5, 2, 9, 1]"
   ]
  },
  {
   "cell_type": "code",
   "execution_count": 85,
   "id": "f3307a79-9a66-4842-9073-043b14911c90",
   "metadata": {},
   "outputs": [
    {
     "name": "stdout",
     "output_type": "stream",
     "text": [
      "[1, 2, 5, 9]\n"
     ]
    }
   ],
   "source": [
    "###8.sort(): Sorts the list in place (ascending by default)\n",
    "###real time example:sorting the names students by their initial letter\n",
    "  \n",
    "numbers = [5, 2, 9, 1]\n",
    "numbers.sort()\n",
    "print(numbers)  # Output: [1, 2, 5, 9]"
   ]
  },
  {
   "cell_type": "code",
   "execution_count": 87,
   "id": "ac606e03-3de9-46bf-8ade-997eed92f774",
   "metadata": {},
   "outputs": [
    {
     "name": "stdout",
     "output_type": "stream",
     "text": [
      "[60, 50, 40, 30, 20, 10]\n"
     ]
    }
   ],
   "source": [
    "###9.reverse(): Reverses the elements of the list in place\n",
    "###real time example:reversing the order of messages \n",
    "\n",
    "numb=[10,20,30,40,50,60]\n",
    "numb.reverse()\n",
    "print(numb)  # Output: [60, 50, 40, 30, 20, 10]"
   ]
  },
  {
   "cell_type": "code",
   "execution_count": 89,
   "id": "d2555f5c-5070-4640-b03b-0f0097a2311a",
   "metadata": {},
   "outputs": [
    {
     "name": "stdout",
     "output_type": "stream",
     "text": [
      "10\n"
     ]
    }
   ],
   "source": [
    "###10.sum(list): Returns the sum of elements in a  numerical lists\n",
    "###real time example:to add total employees in a factory\n",
    "\n",
    "numbers = [1, 2, 3, 4]\n",
    "print(sum(numbers))  # Output: 10"
   ]
  },
  {
   "cell_type": "code",
   "execution_count": 92,
   "id": "aa94f823-ad28-41f6-9e8d-abefedeb40b7",
   "metadata": {},
   "outputs": [
    {
     "name": "stdout",
     "output_type": "stream",
     "text": [
      "3\n"
     ]
    }
   ],
   "source": [
    "###11.count(element): Returns the number of occurrences of an element in the list\n",
    "###real time example:how many students having same name in the class\n",
    "\n",
    "team = ['csk', 'rcb', 'mi', 'rcb', 'rcb']\n",
    "print(team.count('rcb'))  # Output: 3"
   ]
  },
  {
   "cell_type": "code",
   "execution_count": 97,
   "id": "2e85370b-4b03-4bd7-9d63-1c590527cbab",
   "metadata": {},
   "outputs": [
    {
     "name": "stdout",
     "output_type": "stream",
     "text": [
      "[1, 2, 3]\n",
      "[2, 3, 4]\n",
      "[4, 5, 6]\n"
     ]
    }
   ],
   "source": [
    "###12.Nested Lists:Lists can contain other lists, allowing you to create nested lists.This can be useful for storing matrix-like data structures.\n",
    "matrix=[[1,2,3],[2,3,4],[4,5,6]]\n",
    "\n",
    "print(matrix[0])   #prints first row [1,2,3]\n",
    "print(matrix[1])   #prints second row [2,3,4]\n",
    "print(matrix[2])   #prints third row  [4,5,6]"
   ]
  },
  {
   "cell_type": "code",
   "execution_count": 104,
   "id": "78353234-918c-46e3-9870-5ebd597737c0",
   "metadata": {},
   "outputs": [
    {
     "name": "stdout",
     "output_type": "stream",
     "text": [
      "3\n"
     ]
    }
   ],
   "source": [
    "matrix=[[1,2,3],[2,3,4],[4,5,6]]\n",
    "print(matrix[1][1])"
   ]
  },
  {
   "cell_type": "code",
   "execution_count": 124,
   "id": "6e0497dc-a5bf-433c-a09f-c81c4e034277",
   "metadata": {},
   "outputs": [
    {
     "name": "stdout",
     "output_type": "stream",
     "text": [
      "minimum element: 10\n",
      "maximun element: 560\n"
     ]
    }
   ],
   "source": [
    "###14.finding minimum and maximum from a list\n",
    "###real time example:finding a maximum(top1) and minimum(last) marks obtained by student in the class\n",
    "\n",
    "numb=[10,56,78,89,110,560]\n",
    "print(\"minimum element:\",min(numb))  #calculates minimum of all the elements of list.output:10\n",
    "print(\"maximun element:\",max(numb))  #calculates maximun of all the elements of list.output:560\n"
   ]
  },
  {
   "cell_type": "code",
   "execution_count": 127,
   "id": "0b10b47a-2f5c-4289-8f14-e106f3c26516",
   "metadata": {},
   "outputs": [
    {
     "name": "stdout",
     "output_type": "stream",
     "text": [
      "minimum value is: A\n",
      "maximum value is: F\n"
     ]
    }
   ],
   "source": [
    "my=['A','B','C','D','E','F']\n",
    "print(\"minimum value is:\",min(my)) #value of A is 11\n",
    "print(\"maximum value is:\",max(my)) #value of f is 16"
   ]
  },
  {
   "cell_type": "code",
   "execution_count": null,
   "id": "3b34e701-f925-4bd0-b081-e9558ed7dc79",
   "metadata": {},
   "outputs": [],
   "source": []
  }
 ],
 "metadata": {
  "kernelspec": {
   "display_name": "Python 3 (ipykernel)",
   "language": "python",
   "name": "python3"
  },
  "language_info": {
   "codemirror_mode": {
    "name": "ipython",
    "version": 3
   },
   "file_extension": ".py",
   "mimetype": "text/x-python",
   "name": "python",
   "nbconvert_exporter": "python",
   "pygments_lexer": "ipython3",
   "version": "3.12.7"
  }
 },
 "nbformat": 4,
 "nbformat_minor": 5
}
